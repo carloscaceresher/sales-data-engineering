{
 "cells": [
  {
   "cell_type": "markdown",
   "id": "ad76e2cc-e183-4b19-bec2-b0ac06a7ef89",
   "metadata": {},
   "source": [
    "# Data Engineer Assessment - Carlos Cáceres Hernández"
   ]
  },
  {
   "cell_type": "code",
   "execution_count": 172,
   "id": "93d3f6e4-d730-4d32-a2ff-0f1050e04f8f",
   "metadata": {},
   "outputs": [],
   "source": [
    "import io\n",
    "import zipfile\n",
    "import gdown\n",
    "import os\n",
    "import pandas as pd\n",
    "import seaborn as sns\n",
    "import matplotlib.pyplot as plt"
   ]
  },
  {
   "cell_type": "markdown",
   "id": "291dde18-b89d-4c92-9b09-c09b57925fd5",
   "metadata": {},
   "source": [
    "## Data Ingestion"
   ]
  },
  {
   "cell_type": "code",
   "execution_count": 173,
   "id": "23d2ce27-5f3a-46db-a4c7-6ed9b751a016",
   "metadata": {},
   "outputs": [
    {
     "name": "stderr",
     "output_type": "stream",
     "text": [
      "Downloading...\n",
      "From: https://drive.google.com/uc?id=1gT4UFYhphyA2fVo9NN9ODwVrkSMCT6Tr\n",
      "To: C:\\Users\\carlo\\Desktop\\GitKraken\\data.zip\n",
      "100%|██████████| 2.49M/2.49M [00:00<00:00, 14.0MB/s]\n"
     ]
    },
    {
     "data": {
      "text/plain": [
       "'data.zip'"
      ]
     },
     "execution_count": 173,
     "metadata": {},
     "output_type": "execute_result"
    }
   ],
   "source": [
    "#Downloading data from Drive\n",
    "data_url = 'https://drive.google.com/uc?id=1gT4UFYhphyA2fVo9NN9ODwVrkSMCT6Tr'\n",
    "local_path = 'data.zip'\n",
    "gdown.download(data_url, local_path, quiet=False)"
   ]
  },
  {
   "cell_type": "code",
   "execution_count": 174,
   "id": "c1c29549-ce72-4df9-ba7c-e3347723df88",
   "metadata": {},
   "outputs": [
    {
     "name": "stdout",
     "output_type": "stream",
     "text": [
      "Files to ingest: ['data/', 'data/Sales_December_2019.csv', 'data/Sales_April_2019.csv', 'data/Sales_February_2019.csv', 'data/Sales_March_2019.csv', 'data/Sales_August_2019.csv', 'data/Sales_May_2019.csv', 'data/Sales_November_2019.csv', 'data/Sales_October_2019.csv', 'data/Sales_January_2019.csv', 'data/Sales_September_2019.csv', 'data/Sales_July_2019.csv', 'data/Sales_June_2019.csv']\n",
      "\n",
      "\n",
      "Reading file:  Sales_December_2019.csv\n",
      "Success reading file:  Sales_December_2019.csv  shape:  (25117, 7)\n",
      "Data structure:\n",
      "Order ID            object\n",
      "Product             object\n",
      "Quantity Ordered    object\n",
      "Price Each          object\n",
      "Order Date          object\n",
      "Purchase Address    object\n",
      "source_file         object\n",
      "dtype: object\n",
      "\n",
      "\n",
      "Reading file:  Sales_April_2019.csv\n",
      "Success reading file:  Sales_April_2019.csv  shape:  (18383, 7)\n",
      "Data structure:\n",
      "Order ID            object\n",
      "Product             object\n",
      "Quantity Ordered    object\n",
      "Price Each          object\n",
      "Order Date          object\n",
      "Purchase Address    object\n",
      "source_file         object\n",
      "dtype: object\n",
      "\n",
      "\n",
      "Reading file:  Sales_February_2019.csv\n",
      "Success reading file:  Sales_February_2019.csv  shape:  (12036, 7)\n",
      "Data structure:\n",
      "Order ID            object\n",
      "Product             object\n",
      "Quantity Ordered    object\n",
      "Price Each          object\n",
      "Order Date          object\n",
      "Purchase Address    object\n",
      "source_file         object\n",
      "dtype: object\n",
      "\n",
      "\n",
      "Reading file:  Sales_March_2019.csv\n",
      "Success reading file:  Sales_March_2019.csv  shape:  (15226, 7)\n",
      "Data structure:\n",
      "Order ID            object\n",
      "Product             object\n",
      "Quantity Ordered    object\n",
      "Price Each          object\n",
      "Order Date          object\n",
      "Purchase Address    object\n",
      "source_file         object\n",
      "dtype: object\n",
      "\n",
      "\n",
      "Reading file:  Sales_August_2019.csv\n",
      "Success reading file:  Sales_August_2019.csv  shape:  (12011, 7)\n",
      "Data structure:\n",
      "Order ID            object\n",
      "Product             object\n",
      "Quantity Ordered    object\n",
      "Price Each          object\n",
      "Order Date          object\n",
      "Purchase Address    object\n",
      "source_file         object\n",
      "dtype: object\n",
      "\n",
      "\n",
      "Reading file:  Sales_May_2019.csv\n",
      "Success reading file:  Sales_May_2019.csv  shape:  (16635, 7)\n",
      "Data structure:\n",
      "Order ID            object\n",
      "Product             object\n",
      "Quantity Ordered    object\n",
      "Price Each          object\n",
      "Order Date          object\n",
      "Purchase Address    object\n",
      "source_file         object\n",
      "dtype: object\n",
      "\n",
      "\n",
      "Reading file:  Sales_November_2019.csv\n",
      "Success reading file:  Sales_November_2019.csv  shape:  (17661, 7)\n",
      "Data structure:\n",
      "Order ID            object\n",
      "Product             object\n",
      "Quantity Ordered    object\n",
      "Price Each          object\n",
      "Order Date          object\n",
      "Purchase Address    object\n",
      "source_file         object\n",
      "dtype: object\n",
      "\n",
      "\n",
      "Reading file:  Sales_October_2019.csv\n",
      "Success reading file:  Sales_October_2019.csv  shape:  (20379, 7)\n",
      "Data structure:\n",
      "Order ID            object\n",
      "Product             object\n",
      "Quantity Ordered    object\n",
      "Price Each          object\n",
      "Order Date          object\n",
      "Purchase Address    object\n",
      "source_file         object\n",
      "dtype: object\n",
      "\n",
      "\n",
      "Reading file:  Sales_January_2019.csv\n",
      "Success reading file:  Sales_January_2019.csv  shape:  (9723, 7)\n",
      "Data structure:\n",
      "Order ID            object\n",
      "Product             object\n",
      "Quantity Ordered    object\n",
      "Price Each          object\n",
      "Order Date          object\n",
      "Purchase Address    object\n",
      "source_file         object\n",
      "dtype: object\n",
      "\n",
      "\n",
      "Reading file:  Sales_September_2019.csv\n",
      "Success reading file:  Sales_September_2019.csv  shape:  (11686, 7)\n",
      "Data structure:\n",
      "Order ID            object\n",
      "Product             object\n",
      "Quantity Ordered    object\n",
      "Price Each          object\n",
      "Order Date          object\n",
      "Purchase Address    object\n",
      "source_file         object\n",
      "dtype: object\n",
      "\n",
      "\n",
      "Reading file:  Sales_July_2019.csv\n",
      "Success reading file:  Sales_July_2019.csv  shape:  (14371, 7)\n",
      "Data structure:\n",
      "Order ID            object\n",
      "Product             object\n",
      "Quantity Ordered    object\n",
      "Price Each          object\n",
      "Order Date          object\n",
      "Purchase Address    object\n",
      "source_file         object\n",
      "dtype: object\n",
      "\n",
      "\n",
      "Reading file:  Sales_June_2019.csv\n",
      "Success reading file:  Sales_June_2019.csv  shape:  (13622, 7)\n",
      "Data structure:\n",
      "Order ID            object\n",
      "Product             object\n",
      "Quantity Ordered    object\n",
      "Price Each          object\n",
      "Order Date          object\n",
      "Purchase Address    object\n",
      "source_file         object\n",
      "dtype: object\n",
      "\n",
      "\n"
     ]
    }
   ],
   "source": [
    "all_dfs = {}\n",
    "\n",
    "with zipfile.ZipFile(local_path, 'r') as zip_file: \n",
    "    files = zip_file.namelist()\n",
    "    print('Files to ingest:', files)\n",
    "    print(\"\\n\")\n",
    "    \n",
    "    for file in files:\n",
    "        file_name = file.split('/')[1] \n",
    "        if file_name != '' :\n",
    "            print(\"Reading file: \",file_name)\n",
    "            try:\n",
    "                with zip_file.open(file) as f:\n",
    "                    file_content = io.BytesIO(f.read())\n",
    "                    all_dfs[file_name] = pd.read_csv(file_content)\n",
    "                    all_dfs[file_name]['source_file'] = file_name\n",
    "                    print(\"Success reading file: \",file_name, \" shape: \",all_dfs[file_name].shape)\n",
    "                    print(\"Data structure:\")\n",
    "                    print(all_dfs[file_name].dtypes)\n",
    "            except Exception as e:\n",
    "                print(\"Unexpected error reading file: \",file_name,\" error: \",e)\n",
    "            print(\"\\n\")"
   ]
  },
  {
   "cell_type": "markdown",
   "id": "fbdb8aa2-9b4a-4fbc-b32e-34de3b21a606",
   "metadata": {},
   "source": [
    "Once all the files are loaded into dataframes and it is verified that they contain the same structure, we combine them to work with a single dataframe since the volume allows it."
   ]
  },
  {
   "cell_type": "code",
   "execution_count": 175,
   "id": "1b0aee1b-58de-4df5-b27f-d914d6dae470",
   "metadata": {},
   "outputs": [
    {
     "data": {
      "text/plain": [
       "(186850, 7)"
      ]
     },
     "execution_count": 175,
     "metadata": {},
     "output_type": "execute_result"
    }
   ],
   "source": [
    "#combining all dataframes\n",
    "df = pd.concat(all_dfs.values(), ignore_index=True)\n",
    "df.shape"
   ]
  },
  {
   "cell_type": "code",
   "execution_count": 176,
   "id": "49d47868-2566-447c-a200-26fc3b173373",
   "metadata": {},
   "outputs": [
    {
     "data": {
      "text/plain": [
       "Order ID            object\n",
       "Product             object\n",
       "Quantity Ordered    object\n",
       "Price Each          object\n",
       "Order Date          object\n",
       "Purchase Address    object\n",
       "source_file         object\n",
       "dtype: object"
      ]
     },
     "execution_count": 176,
     "metadata": {},
     "output_type": "execute_result"
    }
   ],
   "source": [
    "df.dtypes"
   ]
  },
  {
   "cell_type": "markdown",
   "id": "a3725817-2aec-45bc-afeb-04723c7b1a8c",
   "metadata": {},
   "source": [
    "## Data cleaning and processing"
   ]
  },
  {
   "cell_type": "markdown",
   "id": "64902122-932e-4038-83dc-c483d5066d1f",
   "metadata": {},
   "source": [
    "### Understanding data"
   ]
  },
  {
   "cell_type": "code",
   "execution_count": 177,
   "id": "47d4990e-5264-4c10-82e0-f0a8c81d181c",
   "metadata": {},
   "outputs": [
    {
     "data": {
      "text/html": [
       "<div>\n",
       "<style scoped>\n",
       "    .dataframe tbody tr th:only-of-type {\n",
       "        vertical-align: middle;\n",
       "    }\n",
       "\n",
       "    .dataframe tbody tr th {\n",
       "        vertical-align: top;\n",
       "    }\n",
       "\n",
       "    .dataframe thead th {\n",
       "        text-align: right;\n",
       "    }\n",
       "</style>\n",
       "<table border=\"1\" class=\"dataframe\">\n",
       "  <thead>\n",
       "    <tr style=\"text-align: right;\">\n",
       "      <th></th>\n",
       "      <th>Order ID</th>\n",
       "      <th>Product</th>\n",
       "      <th>Quantity Ordered</th>\n",
       "      <th>Price Each</th>\n",
       "      <th>Order Date</th>\n",
       "      <th>Purchase Address</th>\n",
       "      <th>source_file</th>\n",
       "    </tr>\n",
       "  </thead>\n",
       "  <tbody>\n",
       "    <tr>\n",
       "      <th>0</th>\n",
       "      <td>295665</td>\n",
       "      <td>Macbook Pro Laptop</td>\n",
       "      <td>1</td>\n",
       "      <td>1700</td>\n",
       "      <td>12/30/19 00:01</td>\n",
       "      <td>136 Church St, New York City, NY 10001</td>\n",
       "      <td>Sales_December_2019.csv</td>\n",
       "    </tr>\n",
       "    <tr>\n",
       "      <th>1</th>\n",
       "      <td>295666</td>\n",
       "      <td>LG Washing Machine</td>\n",
       "      <td>1</td>\n",
       "      <td>600.0</td>\n",
       "      <td>12/29/19 07:03</td>\n",
       "      <td>562 2nd St, New York City, NY 10001</td>\n",
       "      <td>Sales_December_2019.csv</td>\n",
       "    </tr>\n",
       "    <tr>\n",
       "      <th>2</th>\n",
       "      <td>295667</td>\n",
       "      <td>USB-C Charging Cable</td>\n",
       "      <td>1</td>\n",
       "      <td>11.95</td>\n",
       "      <td>12/12/19 18:21</td>\n",
       "      <td>277 Main St, New York City, NY 10001</td>\n",
       "      <td>Sales_December_2019.csv</td>\n",
       "    </tr>\n",
       "    <tr>\n",
       "      <th>3</th>\n",
       "      <td>295668</td>\n",
       "      <td>27in FHD Monitor</td>\n",
       "      <td>1</td>\n",
       "      <td>149.99</td>\n",
       "      <td>12/22/19 15:13</td>\n",
       "      <td>410 6th St, San Francisco, CA 94016</td>\n",
       "      <td>Sales_December_2019.csv</td>\n",
       "    </tr>\n",
       "    <tr>\n",
       "      <th>4</th>\n",
       "      <td>295669</td>\n",
       "      <td>USB-C Charging Cable</td>\n",
       "      <td>1</td>\n",
       "      <td>11.95</td>\n",
       "      <td>12/18/19 12:38</td>\n",
       "      <td>43 Hill St, Atlanta, GA 30301</td>\n",
       "      <td>Sales_December_2019.csv</td>\n",
       "    </tr>\n",
       "  </tbody>\n",
       "</table>\n",
       "</div>"
      ],
      "text/plain": [
       "  Order ID               Product Quantity Ordered Price Each      Order Date  \\\n",
       "0   295665    Macbook Pro Laptop                1       1700  12/30/19 00:01   \n",
       "1   295666    LG Washing Machine                1      600.0  12/29/19 07:03   \n",
       "2   295667  USB-C Charging Cable                1      11.95  12/12/19 18:21   \n",
       "3   295668      27in FHD Monitor                1     149.99  12/22/19 15:13   \n",
       "4   295669  USB-C Charging Cable                1      11.95  12/18/19 12:38   \n",
       "\n",
       "                         Purchase Address              source_file  \n",
       "0  136 Church St, New York City, NY 10001  Sales_December_2019.csv  \n",
       "1     562 2nd St, New York City, NY 10001  Sales_December_2019.csv  \n",
       "2    277 Main St, New York City, NY 10001  Sales_December_2019.csv  \n",
       "3     410 6th St, San Francisco, CA 94016  Sales_December_2019.csv  \n",
       "4           43 Hill St, Atlanta, GA 30301  Sales_December_2019.csv  "
      ]
     },
     "execution_count": 177,
     "metadata": {},
     "output_type": "execute_result"
    }
   ],
   "source": [
    "df.head()"
   ]
  },
  {
   "cell_type": "code",
   "execution_count": 178,
   "id": "929ee4c0-d574-4a1d-9b29-805dad845937",
   "metadata": {},
   "outputs": [
    {
     "data": {
      "text/plain": [
       "Order ID\n",
       "Order ID    355\n",
       "160873        5\n",
       "295681        4\n",
       "212334        4\n",
       "277875        4\n",
       "304802        4\n",
       "263918        4\n",
       "226625        4\n",
       "193511        4\n",
       "296353        4\n",
       "dtype: int64"
      ]
     },
     "execution_count": 178,
     "metadata": {},
     "output_type": "execute_result"
    }
   ],
   "source": [
    "#One row represents one order, or orders can have more than one row?\n",
    "df.groupby('Order ID').size().sort_values(ascending=False).head(10)"
   ]
  },
  {
   "cell_type": "code",
   "execution_count": 179,
   "id": "8757088c-9822-4902-bd0b-4b88cde0a1c7",
   "metadata": {},
   "outputs": [
    {
     "data": {
      "text/html": [
       "<div>\n",
       "<style scoped>\n",
       "    .dataframe tbody tr th:only-of-type {\n",
       "        vertical-align: middle;\n",
       "    }\n",
       "\n",
       "    .dataframe tbody tr th {\n",
       "        vertical-align: top;\n",
       "    }\n",
       "\n",
       "    .dataframe thead th {\n",
       "        text-align: right;\n",
       "    }\n",
       "</style>\n",
       "<table border=\"1\" class=\"dataframe\">\n",
       "  <thead>\n",
       "    <tr style=\"text-align: right;\">\n",
       "      <th></th>\n",
       "      <th>Order ID</th>\n",
       "      <th>Product</th>\n",
       "      <th>Quantity Ordered</th>\n",
       "      <th>Price Each</th>\n",
       "      <th>Order Date</th>\n",
       "      <th>Purchase Address</th>\n",
       "      <th>source_file</th>\n",
       "    </tr>\n",
       "  </thead>\n",
       "  <tbody>\n",
       "    <tr>\n",
       "      <th>16</th>\n",
       "      <td>295681</td>\n",
       "      <td>Google Phone</td>\n",
       "      <td>1</td>\n",
       "      <td>600</td>\n",
       "      <td>12/25/19 12:37</td>\n",
       "      <td>79 Elm St, Boston, MA 02215</td>\n",
       "      <td>Sales_December_2019.csv</td>\n",
       "    </tr>\n",
       "    <tr>\n",
       "      <th>17</th>\n",
       "      <td>295681</td>\n",
       "      <td>USB-C Charging Cable</td>\n",
       "      <td>1</td>\n",
       "      <td>11.95</td>\n",
       "      <td>12/25/19 12:37</td>\n",
       "      <td>79 Elm St, Boston, MA 02215</td>\n",
       "      <td>Sales_December_2019.csv</td>\n",
       "    </tr>\n",
       "    <tr>\n",
       "      <th>18</th>\n",
       "      <td>295681</td>\n",
       "      <td>Bose SoundSport Headphones</td>\n",
       "      <td>1</td>\n",
       "      <td>99.99</td>\n",
       "      <td>12/25/19 12:37</td>\n",
       "      <td>79 Elm St, Boston, MA 02215</td>\n",
       "      <td>Sales_December_2019.csv</td>\n",
       "    </tr>\n",
       "    <tr>\n",
       "      <th>19</th>\n",
       "      <td>295681</td>\n",
       "      <td>Wired Headphones</td>\n",
       "      <td>1</td>\n",
       "      <td>11.99</td>\n",
       "      <td>12/25/19 12:37</td>\n",
       "      <td>79 Elm St, Boston, MA 02215</td>\n",
       "      <td>Sales_December_2019.csv</td>\n",
       "    </tr>\n",
       "  </tbody>\n",
       "</table>\n",
       "</div>"
      ],
      "text/plain": [
       "   Order ID                     Product Quantity Ordered Price Each  \\\n",
       "16   295681                Google Phone                1        600   \n",
       "17   295681        USB-C Charging Cable                1      11.95   \n",
       "18   295681  Bose SoundSport Headphones                1      99.99   \n",
       "19   295681            Wired Headphones                1      11.99   \n",
       "\n",
       "        Order Date             Purchase Address              source_file  \n",
       "16  12/25/19 12:37  79 Elm St, Boston, MA 02215  Sales_December_2019.csv  \n",
       "17  12/25/19 12:37  79 Elm St, Boston, MA 02215  Sales_December_2019.csv  \n",
       "18  12/25/19 12:37  79 Elm St, Boston, MA 02215  Sales_December_2019.csv  \n",
       "19  12/25/19 12:37  79 Elm St, Boston, MA 02215  Sales_December_2019.csv  "
      ]
     },
     "execution_count": 179,
     "metadata": {},
     "output_type": "execute_result"
    }
   ],
   "source": [
    "#Checking one sample order\n",
    "df[df['Order ID'] == '295681']"
   ]
  },
  {
   "cell_type": "code",
   "execution_count": 180,
   "id": "63c0c088-efbc-4e8d-be85-35fce3a4339e",
   "metadata": {},
   "outputs": [
    {
     "data": {
      "text/plain": [
       "Order ID\n",
       "Order ID    12\n",
       "260196       1\n",
       "260188       1\n",
       "260189       1\n",
       "260190       1\n",
       "260191       1\n",
       "260192       1\n",
       "260193       1\n",
       "260194       1\n",
       "260195       1\n",
       "Name: source_file, dtype: int64"
      ]
     },
     "execution_count": 180,
     "metadata": {},
     "output_type": "execute_result"
    }
   ],
   "source": [
    "#Checking if all the order lines are in the same file. Important when ingesting future files\n",
    "df.groupby('Order ID')['source_file'].nunique().sort_values(ascending=False).head(10)"
   ]
  },
  {
   "cell_type": "code",
   "execution_count": 181,
   "id": "e244f861-b810-4982-8d52-3da884e88df4",
   "metadata": {},
   "outputs": [
    {
     "data": {
      "text/html": [
       "<div>\n",
       "<style scoped>\n",
       "    .dataframe tbody tr th:only-of-type {\n",
       "        vertical-align: middle;\n",
       "    }\n",
       "\n",
       "    .dataframe tbody tr th {\n",
       "        vertical-align: top;\n",
       "    }\n",
       "\n",
       "    .dataframe thead th {\n",
       "        text-align: right;\n",
       "    }\n",
       "</style>\n",
       "<table border=\"1\" class=\"dataframe\">\n",
       "  <thead>\n",
       "    <tr style=\"text-align: right;\">\n",
       "      <th></th>\n",
       "      <th>Order ID</th>\n",
       "      <th>Product</th>\n",
       "      <th>Quantity Ordered</th>\n",
       "      <th>Price Each</th>\n",
       "      <th>Order Date</th>\n",
       "      <th>Purchase Address</th>\n",
       "      <th>source_file</th>\n",
       "    </tr>\n",
       "  </thead>\n",
       "  <tbody>\n",
       "    <tr>\n",
       "      <th>254</th>\n",
       "      <td>Order ID</td>\n",
       "      <td>Product</td>\n",
       "      <td>Quantity Ordered</td>\n",
       "      <td>Price Each</td>\n",
       "      <td>Order Date</td>\n",
       "      <td>Purchase Address</td>\n",
       "      <td>Sales_December_2019.csv</td>\n",
       "    </tr>\n",
       "    <tr>\n",
       "      <th>705</th>\n",
       "      <td>Order ID</td>\n",
       "      <td>Product</td>\n",
       "      <td>Quantity Ordered</td>\n",
       "      <td>Price Each</td>\n",
       "      <td>Order Date</td>\n",
       "      <td>Purchase Address</td>\n",
       "      <td>Sales_December_2019.csv</td>\n",
       "    </tr>\n",
       "    <tr>\n",
       "      <th>1101</th>\n",
       "      <td>Order ID</td>\n",
       "      <td>Product</td>\n",
       "      <td>Quantity Ordered</td>\n",
       "      <td>Price Each</td>\n",
       "      <td>Order Date</td>\n",
       "      <td>Purchase Address</td>\n",
       "      <td>Sales_December_2019.csv</td>\n",
       "    </tr>\n",
       "    <tr>\n",
       "      <th>2875</th>\n",
       "      <td>Order ID</td>\n",
       "      <td>Product</td>\n",
       "      <td>Quantity Ordered</td>\n",
       "      <td>Price Each</td>\n",
       "      <td>Order Date</td>\n",
       "      <td>Purchase Address</td>\n",
       "      <td>Sales_December_2019.csv</td>\n",
       "    </tr>\n",
       "    <tr>\n",
       "      <th>3708</th>\n",
       "      <td>Order ID</td>\n",
       "      <td>Product</td>\n",
       "      <td>Quantity Ordered</td>\n",
       "      <td>Price Each</td>\n",
       "      <td>Order Date</td>\n",
       "      <td>Purchase Address</td>\n",
       "      <td>Sales_December_2019.csv</td>\n",
       "    </tr>\n",
       "  </tbody>\n",
       "</table>\n",
       "</div>"
      ],
      "text/plain": [
       "      Order ID  Product  Quantity Ordered  Price Each  Order Date  \\\n",
       "254   Order ID  Product  Quantity Ordered  Price Each  Order Date   \n",
       "705   Order ID  Product  Quantity Ordered  Price Each  Order Date   \n",
       "1101  Order ID  Product  Quantity Ordered  Price Each  Order Date   \n",
       "2875  Order ID  Product  Quantity Ordered  Price Each  Order Date   \n",
       "3708  Order ID  Product  Quantity Ordered  Price Each  Order Date   \n",
       "\n",
       "      Purchase Address              source_file  \n",
       "254   Purchase Address  Sales_December_2019.csv  \n",
       "705   Purchase Address  Sales_December_2019.csv  \n",
       "1101  Purchase Address  Sales_December_2019.csv  \n",
       "2875  Purchase Address  Sales_December_2019.csv  \n",
       "3708  Purchase Address  Sales_December_2019.csv  "
      ]
     },
     "execution_count": 181,
     "metadata": {},
     "output_type": "execute_result"
    }
   ],
   "source": [
    "#Some lines have the order id column filled with the value: \"Order ID\"\n",
    "df[df['Order ID'] == 'Order ID'].head()"
   ]
  },
  {
   "cell_type": "code",
   "execution_count": 182,
   "id": "eb4ebc78-3de3-4570-8e01-729d7f8a3d62",
   "metadata": {},
   "outputs": [
    {
     "data": {
      "text/html": [
       "<div>\n",
       "<style scoped>\n",
       "    .dataframe tbody tr th:only-of-type {\n",
       "        vertical-align: middle;\n",
       "    }\n",
       "\n",
       "    .dataframe tbody tr th {\n",
       "        vertical-align: top;\n",
       "    }\n",
       "\n",
       "    .dataframe thead th {\n",
       "        text-align: right;\n",
       "    }\n",
       "</style>\n",
       "<table border=\"1\" class=\"dataframe\">\n",
       "  <thead>\n",
       "    <tr style=\"text-align: right;\">\n",
       "      <th></th>\n",
       "      <th>Product</th>\n",
       "      <th>Quantity Ordered</th>\n",
       "      <th>Price Each</th>\n",
       "      <th>Order Date</th>\n",
       "      <th>Purchase Address</th>\n",
       "      <th>source_file</th>\n",
       "    </tr>\n",
       "    <tr>\n",
       "      <th>Order ID</th>\n",
       "      <th></th>\n",
       "      <th></th>\n",
       "      <th></th>\n",
       "      <th></th>\n",
       "      <th></th>\n",
       "      <th></th>\n",
       "    </tr>\n",
       "  </thead>\n",
       "  <tbody>\n",
       "    <tr>\n",
       "      <th>Order ID</th>\n",
       "      <td>1</td>\n",
       "      <td>1</td>\n",
       "      <td>1</td>\n",
       "      <td>1</td>\n",
       "      <td>1</td>\n",
       "      <td>12</td>\n",
       "    </tr>\n",
       "  </tbody>\n",
       "</table>\n",
       "</div>"
      ],
      "text/plain": [
       "          Product  Quantity Ordered  Price Each  Order Date  Purchase Address  \\\n",
       "Order ID                                                                        \n",
       "Order ID        1                 1           1           1                 1   \n",
       "\n",
       "          source_file  \n",
       "Order ID               \n",
       "Order ID           12  "
      ]
     },
     "execution_count": 182,
     "metadata": {},
     "output_type": "execute_result"
    }
   ],
   "source": [
    "#all theese rows have as value the header name. Need to clean this.\n",
    "df[df['Order ID'] == 'Order ID'].groupby('Order ID').nunique()"
   ]
  },
  {
   "cell_type": "markdown",
   "id": "277f0141-241a-44f2-aabe-61e64625d3c5",
   "metadata": {},
   "source": [
    "### Data cleaning"
   ]
  },
  {
   "cell_type": "code",
   "execution_count": 183,
   "id": "094ffb0d-fb27-41e8-b775-cb309d5b8cb2",
   "metadata": {},
   "outputs": [],
   "source": [
    "#Deleting rows with header names\n",
    "def columns_contains_header_name(x):\n",
    "    for col in ['Order ID','Product','Quantity Ordered','Price Each','Order Date','Purchase Address']:\n",
    "        if x[col] != col : \n",
    "            return True\n",
    "    return False\n",
    "    \n",
    "df_no_header_rows = df[df.apply(columns_contains_header_name,axis=1)]"
   ]
  },
  {
   "cell_type": "code",
   "execution_count": 184,
   "id": "52932810-f51a-4022-9687-6bd1ad75e687",
   "metadata": {},
   "outputs": [
    {
     "data": {
      "text/html": [
       "<div>\n",
       "<style scoped>\n",
       "    .dataframe tbody tr th:only-of-type {\n",
       "        vertical-align: middle;\n",
       "    }\n",
       "\n",
       "    .dataframe tbody tr th {\n",
       "        vertical-align: top;\n",
       "    }\n",
       "\n",
       "    .dataframe thead th {\n",
       "        text-align: right;\n",
       "    }\n",
       "</style>\n",
       "<table border=\"1\" class=\"dataframe\">\n",
       "  <thead>\n",
       "    <tr style=\"text-align: right;\">\n",
       "      <th></th>\n",
       "      <th>Order ID</th>\n",
       "      <th>Product</th>\n",
       "      <th>Quantity Ordered</th>\n",
       "      <th>Price Each</th>\n",
       "      <th>Order Date</th>\n",
       "      <th>Purchase Address</th>\n",
       "      <th>source_file</th>\n",
       "    </tr>\n",
       "  </thead>\n",
       "  <tbody>\n",
       "    <tr>\n",
       "      <th>264</th>\n",
       "      <td>NaN</td>\n",
       "      <td>NaN</td>\n",
       "      <td>NaN</td>\n",
       "      <td>NaN</td>\n",
       "      <td>NaN</td>\n",
       "      <td>NaN</td>\n",
       "      <td>Sales_December_2019.csv</td>\n",
       "    </tr>\n",
       "    <tr>\n",
       "      <th>648</th>\n",
       "      <td>NaN</td>\n",
       "      <td>NaN</td>\n",
       "      <td>NaN</td>\n",
       "      <td>NaN</td>\n",
       "      <td>NaN</td>\n",
       "      <td>NaN</td>\n",
       "      <td>Sales_December_2019.csv</td>\n",
       "    </tr>\n",
       "    <tr>\n",
       "      <th>680</th>\n",
       "      <td>NaN</td>\n",
       "      <td>NaN</td>\n",
       "      <td>NaN</td>\n",
       "      <td>NaN</td>\n",
       "      <td>NaN</td>\n",
       "      <td>NaN</td>\n",
       "      <td>Sales_December_2019.csv</td>\n",
       "    </tr>\n",
       "    <tr>\n",
       "      <th>1385</th>\n",
       "      <td>NaN</td>\n",
       "      <td>NaN</td>\n",
       "      <td>NaN</td>\n",
       "      <td>NaN</td>\n",
       "      <td>NaN</td>\n",
       "      <td>NaN</td>\n",
       "      <td>Sales_December_2019.csv</td>\n",
       "    </tr>\n",
       "    <tr>\n",
       "      <th>1495</th>\n",
       "      <td>NaN</td>\n",
       "      <td>NaN</td>\n",
       "      <td>NaN</td>\n",
       "      <td>NaN</td>\n",
       "      <td>NaN</td>\n",
       "      <td>NaN</td>\n",
       "      <td>Sales_December_2019.csv</td>\n",
       "    </tr>\n",
       "    <tr>\n",
       "      <th>...</th>\n",
       "      <td>...</td>\n",
       "      <td>...</td>\n",
       "      <td>...</td>\n",
       "      <td>...</td>\n",
       "      <td>...</td>\n",
       "      <td>...</td>\n",
       "      <td>...</td>\n",
       "    </tr>\n",
       "    <tr>\n",
       "      <th>185795</th>\n",
       "      <td>NaN</td>\n",
       "      <td>NaN</td>\n",
       "      <td>NaN</td>\n",
       "      <td>NaN</td>\n",
       "      <td>NaN</td>\n",
       "      <td>NaN</td>\n",
       "      <td>Sales_June_2019.csv</td>\n",
       "    </tr>\n",
       "    <tr>\n",
       "      <th>185868</th>\n",
       "      <td>NaN</td>\n",
       "      <td>NaN</td>\n",
       "      <td>NaN</td>\n",
       "      <td>NaN</td>\n",
       "      <td>NaN</td>\n",
       "      <td>NaN</td>\n",
       "      <td>Sales_June_2019.csv</td>\n",
       "    </tr>\n",
       "    <tr>\n",
       "      <th>185887</th>\n",
       "      <td>NaN</td>\n",
       "      <td>NaN</td>\n",
       "      <td>NaN</td>\n",
       "      <td>NaN</td>\n",
       "      <td>NaN</td>\n",
       "      <td>NaN</td>\n",
       "      <td>Sales_June_2019.csv</td>\n",
       "    </tr>\n",
       "    <tr>\n",
       "      <th>185960</th>\n",
       "      <td>NaN</td>\n",
       "      <td>NaN</td>\n",
       "      <td>NaN</td>\n",
       "      <td>NaN</td>\n",
       "      <td>NaN</td>\n",
       "      <td>NaN</td>\n",
       "      <td>Sales_June_2019.csv</td>\n",
       "    </tr>\n",
       "    <tr>\n",
       "      <th>186580</th>\n",
       "      <td>NaN</td>\n",
       "      <td>NaN</td>\n",
       "      <td>NaN</td>\n",
       "      <td>NaN</td>\n",
       "      <td>NaN</td>\n",
       "      <td>NaN</td>\n",
       "      <td>Sales_June_2019.csv</td>\n",
       "    </tr>\n",
       "  </tbody>\n",
       "</table>\n",
       "<p>545 rows × 7 columns</p>\n",
       "</div>"
      ],
      "text/plain": [
       "       Order ID Product Quantity Ordered Price Each Order Date  \\\n",
       "264         NaN     NaN              NaN        NaN        NaN   \n",
       "648         NaN     NaN              NaN        NaN        NaN   \n",
       "680         NaN     NaN              NaN        NaN        NaN   \n",
       "1385        NaN     NaN              NaN        NaN        NaN   \n",
       "1495        NaN     NaN              NaN        NaN        NaN   \n",
       "...         ...     ...              ...        ...        ...   \n",
       "185795      NaN     NaN              NaN        NaN        NaN   \n",
       "185868      NaN     NaN              NaN        NaN        NaN   \n",
       "185887      NaN     NaN              NaN        NaN        NaN   \n",
       "185960      NaN     NaN              NaN        NaN        NaN   \n",
       "186580      NaN     NaN              NaN        NaN        NaN   \n",
       "\n",
       "       Purchase Address              source_file  \n",
       "264                 NaN  Sales_December_2019.csv  \n",
       "648                 NaN  Sales_December_2019.csv  \n",
       "680                 NaN  Sales_December_2019.csv  \n",
       "1385                NaN  Sales_December_2019.csv  \n",
       "1495                NaN  Sales_December_2019.csv  \n",
       "...                 ...                      ...  \n",
       "185795              NaN      Sales_June_2019.csv  \n",
       "185868              NaN      Sales_June_2019.csv  \n",
       "185887              NaN      Sales_June_2019.csv  \n",
       "185960              NaN      Sales_June_2019.csv  \n",
       "186580              NaN      Sales_June_2019.csv  \n",
       "\n",
       "[545 rows x 7 columns]"
      ]
     },
     "execution_count": 184,
     "metadata": {},
     "output_type": "execute_result"
    }
   ],
   "source": [
    "#checking if there are empty rows\n",
    "df_no_header_rows[df_no_header_rows[['Order ID','Product','Quantity Ordered','Price Each','Order Date','Purchase Address']].isnull().all(axis=1)]"
   ]
  },
  {
   "cell_type": "code",
   "execution_count": 185,
   "id": "e6c0e51a-1845-45df-8588-fd56550eaab8",
   "metadata": {},
   "outputs": [
    {
     "data": {
      "text/plain": [
       "(185950, 7)"
      ]
     },
     "execution_count": 185,
     "metadata": {},
     "output_type": "execute_result"
    }
   ],
   "source": [
    "#Deleting empty rows\n",
    "df_no_null_rows = df_no_header_rows.dropna(subset=['Order ID','Product','Quantity Ordered','Price Each','Order Date','Purchase Address'],how='all')\n",
    "df_no_null_rows.shape"
   ]
  },
  {
   "cell_type": "code",
   "execution_count": 186,
   "id": "f126d8a2-7f11-4811-a4f3-32a78f7d13bf",
   "metadata": {},
   "outputs": [
    {
     "data": {
      "text/plain": [
       "Order ID            0\n",
       "Product             0\n",
       "Quantity Ordered    0\n",
       "Price Each          0\n",
       "Order Date          0\n",
       "Purchase Address    0\n",
       "source_file         0\n",
       "dtype: int64"
      ]
     },
     "execution_count": 186,
     "metadata": {},
     "output_type": "execute_result"
    }
   ],
   "source": [
    "#Once deleted empty rows, checking columns with empty values\n",
    "df_no_null_rows.isna().sum()"
   ]
  },
  {
   "cell_type": "code",
   "execution_count": 187,
   "id": "3478defd-9722-47e2-bcf8-22c3070b67be",
   "metadata": {},
   "outputs": [
    {
     "data": {
      "text/html": [
       "<div>\n",
       "<style scoped>\n",
       "    .dataframe tbody tr th:only-of-type {\n",
       "        vertical-align: middle;\n",
       "    }\n",
       "\n",
       "    .dataframe tbody tr th {\n",
       "        vertical-align: top;\n",
       "    }\n",
       "\n",
       "    .dataframe thead th {\n",
       "        text-align: right;\n",
       "    }\n",
       "</style>\n",
       "<table border=\"1\" class=\"dataframe\">\n",
       "  <thead>\n",
       "    <tr style=\"text-align: right;\">\n",
       "      <th></th>\n",
       "      <th>Order ID</th>\n",
       "      <th>Product</th>\n",
       "      <th>Quantity Ordered</th>\n",
       "      <th>Price Each</th>\n",
       "      <th>Order Date</th>\n",
       "      <th>Purchase Address</th>\n",
       "      <th>source_file</th>\n",
       "    </tr>\n",
       "  </thead>\n",
       "  <tbody>\n",
       "    <tr>\n",
       "      <th>440</th>\n",
       "      <td>296081</td>\n",
       "      <td>Flatscreen TV</td>\n",
       "      <td>1</td>\n",
       "      <td>300</td>\n",
       "      <td>12/30/19 16:52</td>\n",
       "      <td>970 Sunset St, Austin, TX 73301</td>\n",
       "      <td>Sales_December_2019.csv</td>\n",
       "    </tr>\n",
       "    <tr>\n",
       "      <th>1735</th>\n",
       "      <td>297311</td>\n",
       "      <td>Bose SoundSport Headphones</td>\n",
       "      <td>1</td>\n",
       "      <td>99.99</td>\n",
       "      <td>12/07/19 07:30</td>\n",
       "      <td>858 Willow St, Los Angeles, CA 90001</td>\n",
       "      <td>Sales_December_2019.csv</td>\n",
       "    </tr>\n",
       "    <tr>\n",
       "      <th>2822</th>\n",
       "      <td>298358</td>\n",
       "      <td>Apple Airpods Headphones</td>\n",
       "      <td>1</td>\n",
       "      <td>150</td>\n",
       "      <td>12/04/19 15:57</td>\n",
       "      <td>482 8th St, San Francisco, CA 94016</td>\n",
       "      <td>Sales_December_2019.csv</td>\n",
       "    </tr>\n",
       "    <tr>\n",
       "      <th>3131</th>\n",
       "      <td>298657</td>\n",
       "      <td>Lightning Charging Cable</td>\n",
       "      <td>1</td>\n",
       "      <td>14.95</td>\n",
       "      <td>12/01/19 18:22</td>\n",
       "      <td>428 12th St, Atlanta, GA 30301</td>\n",
       "      <td>Sales_December_2019.csv</td>\n",
       "    </tr>\n",
       "    <tr>\n",
       "      <th>3377</th>\n",
       "      <td>298883</td>\n",
       "      <td>Wired Headphones</td>\n",
       "      <td>1</td>\n",
       "      <td>11.99</td>\n",
       "      <td>12/28/19 18:07</td>\n",
       "      <td>516 Willow St, Los Angeles, CA 90001</td>\n",
       "      <td>Sales_December_2019.csv</td>\n",
       "    </tr>\n",
       "    <tr>\n",
       "      <th>...</th>\n",
       "      <td>...</td>\n",
       "      <td>...</td>\n",
       "      <td>...</td>\n",
       "      <td>...</td>\n",
       "      <td>...</td>\n",
       "      <td>...</td>\n",
       "      <td>...</td>\n",
       "    </tr>\n",
       "    <tr>\n",
       "      <th>182495</th>\n",
       "      <td>218756</td>\n",
       "      <td>AAA Batteries (4-pack)</td>\n",
       "      <td>1</td>\n",
       "      <td>2.99</td>\n",
       "      <td>06/11/19 14:54</td>\n",
       "      <td>362 Hickory St, Boston, MA 02215</td>\n",
       "      <td>Sales_June_2019.csv</td>\n",
       "    </tr>\n",
       "    <tr>\n",
       "      <th>182766</th>\n",
       "      <td>219007</td>\n",
       "      <td>AA Batteries (4-pack)</td>\n",
       "      <td>1</td>\n",
       "      <td>3.84</td>\n",
       "      <td>06/24/19 11:16</td>\n",
       "      <td>42 8th St, Los Angeles, CA 90001</td>\n",
       "      <td>Sales_June_2019.csv</td>\n",
       "    </tr>\n",
       "    <tr>\n",
       "      <th>184211</th>\n",
       "      <td>220392</td>\n",
       "      <td>Lightning Charging Cable</td>\n",
       "      <td>1</td>\n",
       "      <td>14.95</td>\n",
       "      <td>06/08/19 17:13</td>\n",
       "      <td>472 8th St, Portland, ME 04101</td>\n",
       "      <td>Sales_June_2019.csv</td>\n",
       "    </tr>\n",
       "    <tr>\n",
       "      <th>184715</th>\n",
       "      <td>220882</td>\n",
       "      <td>Lightning Charging Cable</td>\n",
       "      <td>1</td>\n",
       "      <td>14.95</td>\n",
       "      <td>06/13/19 17:53</td>\n",
       "      <td>588 Lake St, Boston, MA 02215</td>\n",
       "      <td>Sales_June_2019.csv</td>\n",
       "    </tr>\n",
       "    <tr>\n",
       "      <th>185584</th>\n",
       "      <td>221711</td>\n",
       "      <td>Bose SoundSport Headphones</td>\n",
       "      <td>1</td>\n",
       "      <td>99.99</td>\n",
       "      <td>06/15/19 16:36</td>\n",
       "      <td>139 West St, New York City, NY 10001</td>\n",
       "      <td>Sales_June_2019.csv</td>\n",
       "    </tr>\n",
       "  </tbody>\n",
       "</table>\n",
       "<p>264 rows × 7 columns</p>\n",
       "</div>"
      ],
      "text/plain": [
       "       Order ID                     Product Quantity Ordered Price Each  \\\n",
       "440      296081               Flatscreen TV                1        300   \n",
       "1735     297311  Bose SoundSport Headphones                1      99.99   \n",
       "2822     298358    Apple Airpods Headphones                1        150   \n",
       "3131     298657    Lightning Charging Cable                1      14.95   \n",
       "3377     298883            Wired Headphones                1      11.99   \n",
       "...         ...                         ...              ...        ...   \n",
       "182495   218756      AAA Batteries (4-pack)                1       2.99   \n",
       "182766   219007       AA Batteries (4-pack)                1       3.84   \n",
       "184211   220392    Lightning Charging Cable                1      14.95   \n",
       "184715   220882    Lightning Charging Cable                1      14.95   \n",
       "185584   221711  Bose SoundSport Headphones                1      99.99   \n",
       "\n",
       "            Order Date                      Purchase Address  \\\n",
       "440     12/30/19 16:52       970 Sunset St, Austin, TX 73301   \n",
       "1735    12/07/19 07:30  858 Willow St, Los Angeles, CA 90001   \n",
       "2822    12/04/19 15:57   482 8th St, San Francisco, CA 94016   \n",
       "3131    12/01/19 18:22        428 12th St, Atlanta, GA 30301   \n",
       "3377    12/28/19 18:07  516 Willow St, Los Angeles, CA 90001   \n",
       "...                ...                                   ...   \n",
       "182495  06/11/19 14:54      362 Hickory St, Boston, MA 02215   \n",
       "182766  06/24/19 11:16      42 8th St, Los Angeles, CA 90001   \n",
       "184211  06/08/19 17:13        472 8th St, Portland, ME 04101   \n",
       "184715  06/13/19 17:53         588 Lake St, Boston, MA 02215   \n",
       "185584  06/15/19 16:36  139 West St, New York City, NY 10001   \n",
       "\n",
       "                    source_file  \n",
       "440     Sales_December_2019.csv  \n",
       "1735    Sales_December_2019.csv  \n",
       "2822    Sales_December_2019.csv  \n",
       "3131    Sales_December_2019.csv  \n",
       "3377    Sales_December_2019.csv  \n",
       "...                         ...  \n",
       "182495      Sales_June_2019.csv  \n",
       "182766      Sales_June_2019.csv  \n",
       "184211      Sales_June_2019.csv  \n",
       "184715      Sales_June_2019.csv  \n",
       "185584      Sales_June_2019.csv  \n",
       "\n",
       "[264 rows x 7 columns]"
      ]
     },
     "execution_count": 187,
     "metadata": {},
     "output_type": "execute_result"
    }
   ],
   "source": [
    "#finding duplicates\n",
    "df_no_null_rows[df_no_null_rows.duplicated()]"
   ]
  },
  {
   "cell_type": "code",
   "execution_count": 188,
   "id": "f8f2b5c5-0618-49d2-b7f1-dd4758899014",
   "metadata": {},
   "outputs": [
    {
     "data": {
      "text/html": [
       "<div>\n",
       "<style scoped>\n",
       "    .dataframe tbody tr th:only-of-type {\n",
       "        vertical-align: middle;\n",
       "    }\n",
       "\n",
       "    .dataframe tbody tr th {\n",
       "        vertical-align: top;\n",
       "    }\n",
       "\n",
       "    .dataframe thead th {\n",
       "        text-align: right;\n",
       "    }\n",
       "</style>\n",
       "<table border=\"1\" class=\"dataframe\">\n",
       "  <thead>\n",
       "    <tr style=\"text-align: right;\">\n",
       "      <th></th>\n",
       "      <th>Order ID</th>\n",
       "      <th>Product</th>\n",
       "      <th>Quantity Ordered</th>\n",
       "      <th>Price Each</th>\n",
       "      <th>Order Date</th>\n",
       "      <th>Purchase Address</th>\n",
       "      <th>source_file</th>\n",
       "    </tr>\n",
       "  </thead>\n",
       "  <tbody>\n",
       "    <tr>\n",
       "      <th>439</th>\n",
       "      <td>296081</td>\n",
       "      <td>Flatscreen TV</td>\n",
       "      <td>1</td>\n",
       "      <td>300</td>\n",
       "      <td>12/30/19 16:52</td>\n",
       "      <td>970 Sunset St, Austin, TX 73301</td>\n",
       "      <td>Sales_December_2019.csv</td>\n",
       "    </tr>\n",
       "    <tr>\n",
       "      <th>440</th>\n",
       "      <td>296081</td>\n",
       "      <td>Flatscreen TV</td>\n",
       "      <td>1</td>\n",
       "      <td>300</td>\n",
       "      <td>12/30/19 16:52</td>\n",
       "      <td>970 Sunset St, Austin, TX 73301</td>\n",
       "      <td>Sales_December_2019.csv</td>\n",
       "    </tr>\n",
       "  </tbody>\n",
       "</table>\n",
       "</div>"
      ],
      "text/plain": [
       "    Order ID        Product Quantity Ordered Price Each      Order Date  \\\n",
       "439   296081  Flatscreen TV                1        300  12/30/19 16:52   \n",
       "440   296081  Flatscreen TV                1        300  12/30/19 16:52   \n",
       "\n",
       "                    Purchase Address              source_file  \n",
       "439  970 Sunset St, Austin, TX 73301  Sales_December_2019.csv  \n",
       "440  970 Sunset St, Austin, TX 73301  Sales_December_2019.csv  "
      ]
     },
     "execution_count": 188,
     "metadata": {},
     "output_type": "execute_result"
    }
   ],
   "source": [
    "#checking one sample duplicated row\n",
    "df_no_null_rows[df_no_null_rows['Order ID'] =='296081']"
   ]
  },
  {
   "cell_type": "code",
   "execution_count": 189,
   "id": "df5e05c0-a391-4610-8806-13e953a9190c",
   "metadata": {},
   "outputs": [
    {
     "data": {
      "text/plain": [
       "(185686, 7)"
      ]
     },
     "execution_count": 189,
     "metadata": {},
     "output_type": "execute_result"
    }
   ],
   "source": [
    "#Dropping all duplicate rows. A product shouldn't appear twice in an order with the same price and quantity.\n",
    "df_no_duplicates = df_no_null_rows.drop_duplicates()\n",
    "df_no_duplicates.shape"
   ]
  },
  {
   "cell_type": "markdown",
   "id": "a47ad2f7-08fe-4424-9796-1637364eb5dc",
   "metadata": {},
   "source": [
    "### Data Transformation"
   ]
  },
  {
   "cell_type": "markdown",
   "id": "f4cd5a43-1b21-48e6-997a-ebf6cd0b87b6",
   "metadata": {},
   "source": [
    "It is necessary to cast and transform some columns"
   ]
  },
  {
   "cell_type": "code",
   "execution_count": 190,
   "id": "2bf29313-f908-40e9-af00-2ce9dd27f051",
   "metadata": {},
   "outputs": [],
   "source": [
    "pd.options.mode.chained_assignment = None"
   ]
  },
  {
   "cell_type": "code",
   "execution_count": 191,
   "id": "2887b761-4f9f-4c08-a092-4fe89ba1bbcf",
   "metadata": {},
   "outputs": [],
   "source": [
    "#Trying to cast numeric columns\n",
    "df_no_duplicates['Order ID'] = df_no_duplicates['Order ID'].astype(int)\n",
    "df_no_duplicates['Quantity Ordered'] = df_no_duplicates['Quantity Ordered'].astype(int)\n",
    "df_no_duplicates['Price Each'] = df_no_duplicates['Price Each'].astype(float)"
   ]
  },
  {
   "cell_type": "code",
   "execution_count": 192,
   "id": "b5e82686-4de3-4b2b-b1e5-126fd67e483f",
   "metadata": {},
   "outputs": [],
   "source": [
    "#Trying to cast datetime column\n",
    "df_no_duplicates['Order Date'] = pd.to_datetime(df_no_duplicates['Order Date'],format='%m/%d/%y %H:%M')"
   ]
  },
  {
   "cell_type": "code",
   "execution_count": 193,
   "id": "b112a9a0-ea6d-4fb0-b281-38f91068690f",
   "metadata": {},
   "outputs": [
    {
     "data": {
      "text/plain": [
       "Order ID                     int32\n",
       "Product                     object\n",
       "Quantity Ordered             int32\n",
       "Price Each                 float64\n",
       "Order Date          datetime64[ns]\n",
       "Purchase Address            object\n",
       "source_file                 object\n",
       "dtype: object"
      ]
     },
     "execution_count": 193,
     "metadata": {},
     "output_type": "execute_result"
    }
   ],
   "source": [
    "df_no_duplicates.dtypes"
   ]
  },
  {
   "cell_type": "code",
   "execution_count": 194,
   "id": "6dc0a452-56e0-475e-9cbf-d597623e9dc5",
   "metadata": {},
   "outputs": [],
   "source": [
    "#Splitting Address column\n",
    "df_no_duplicates[['street', 'city', 'state_pc']] = df_no_duplicates['Purchase Address'].str.split(', ', expand=True)"
   ]
  },
  {
   "cell_type": "code",
   "execution_count": 195,
   "id": "74af416b-f3c0-4b55-9ca5-1aa438bde088",
   "metadata": {},
   "outputs": [],
   "source": [
    "df_no_duplicates[['state','postal_code']] = df_no_duplicates['state_pc'].str.split(' ', expand=True)\n",
    "df_no_duplicates = df_no_duplicates.drop(columns=['state_pc'])"
   ]
  },
  {
   "cell_type": "code",
   "execution_count": 196,
   "id": "42a7207b-71ec-4998-b7b0-c615e0059924",
   "metadata": {
    "scrolled": true
   },
   "outputs": [
    {
     "data": {
      "text/html": [
       "<div>\n",
       "<style scoped>\n",
       "    .dataframe tbody tr th:only-of-type {\n",
       "        vertical-align: middle;\n",
       "    }\n",
       "\n",
       "    .dataframe tbody tr th {\n",
       "        vertical-align: top;\n",
       "    }\n",
       "\n",
       "    .dataframe thead th {\n",
       "        text-align: right;\n",
       "    }\n",
       "</style>\n",
       "<table border=\"1\" class=\"dataframe\">\n",
       "  <thead>\n",
       "    <tr style=\"text-align: right;\">\n",
       "      <th></th>\n",
       "      <th>Order ID</th>\n",
       "      <th>Product</th>\n",
       "      <th>Quantity Ordered</th>\n",
       "      <th>Price Each</th>\n",
       "      <th>Order Date</th>\n",
       "      <th>Purchase Address</th>\n",
       "      <th>source_file</th>\n",
       "      <th>street</th>\n",
       "      <th>city</th>\n",
       "      <th>state</th>\n",
       "      <th>postal_code</th>\n",
       "    </tr>\n",
       "  </thead>\n",
       "  <tbody>\n",
       "    <tr>\n",
       "      <th>0</th>\n",
       "      <td>295665</td>\n",
       "      <td>Macbook Pro Laptop</td>\n",
       "      <td>1</td>\n",
       "      <td>1700.00</td>\n",
       "      <td>2019-12-30 00:01:00</td>\n",
       "      <td>136 Church St, New York City, NY 10001</td>\n",
       "      <td>Sales_December_2019.csv</td>\n",
       "      <td>136 Church St</td>\n",
       "      <td>New York City</td>\n",
       "      <td>NY</td>\n",
       "      <td>10001</td>\n",
       "    </tr>\n",
       "    <tr>\n",
       "      <th>1</th>\n",
       "      <td>295666</td>\n",
       "      <td>LG Washing Machine</td>\n",
       "      <td>1</td>\n",
       "      <td>600.00</td>\n",
       "      <td>2019-12-29 07:03:00</td>\n",
       "      <td>562 2nd St, New York City, NY 10001</td>\n",
       "      <td>Sales_December_2019.csv</td>\n",
       "      <td>562 2nd St</td>\n",
       "      <td>New York City</td>\n",
       "      <td>NY</td>\n",
       "      <td>10001</td>\n",
       "    </tr>\n",
       "    <tr>\n",
       "      <th>2</th>\n",
       "      <td>295667</td>\n",
       "      <td>USB-C Charging Cable</td>\n",
       "      <td>1</td>\n",
       "      <td>11.95</td>\n",
       "      <td>2019-12-12 18:21:00</td>\n",
       "      <td>277 Main St, New York City, NY 10001</td>\n",
       "      <td>Sales_December_2019.csv</td>\n",
       "      <td>277 Main St</td>\n",
       "      <td>New York City</td>\n",
       "      <td>NY</td>\n",
       "      <td>10001</td>\n",
       "    </tr>\n",
       "    <tr>\n",
       "      <th>3</th>\n",
       "      <td>295668</td>\n",
       "      <td>27in FHD Monitor</td>\n",
       "      <td>1</td>\n",
       "      <td>149.99</td>\n",
       "      <td>2019-12-22 15:13:00</td>\n",
       "      <td>410 6th St, San Francisco, CA 94016</td>\n",
       "      <td>Sales_December_2019.csv</td>\n",
       "      <td>410 6th St</td>\n",
       "      <td>San Francisco</td>\n",
       "      <td>CA</td>\n",
       "      <td>94016</td>\n",
       "    </tr>\n",
       "    <tr>\n",
       "      <th>4</th>\n",
       "      <td>295669</td>\n",
       "      <td>USB-C Charging Cable</td>\n",
       "      <td>1</td>\n",
       "      <td>11.95</td>\n",
       "      <td>2019-12-18 12:38:00</td>\n",
       "      <td>43 Hill St, Atlanta, GA 30301</td>\n",
       "      <td>Sales_December_2019.csv</td>\n",
       "      <td>43 Hill St</td>\n",
       "      <td>Atlanta</td>\n",
       "      <td>GA</td>\n",
       "      <td>30301</td>\n",
       "    </tr>\n",
       "  </tbody>\n",
       "</table>\n",
       "</div>"
      ],
      "text/plain": [
       "   Order ID               Product  Quantity Ordered  Price Each  \\\n",
       "0    295665    Macbook Pro Laptop                 1     1700.00   \n",
       "1    295666    LG Washing Machine                 1      600.00   \n",
       "2    295667  USB-C Charging Cable                 1       11.95   \n",
       "3    295668      27in FHD Monitor                 1      149.99   \n",
       "4    295669  USB-C Charging Cable                 1       11.95   \n",
       "\n",
       "           Order Date                        Purchase Address  \\\n",
       "0 2019-12-30 00:01:00  136 Church St, New York City, NY 10001   \n",
       "1 2019-12-29 07:03:00     562 2nd St, New York City, NY 10001   \n",
       "2 2019-12-12 18:21:00    277 Main St, New York City, NY 10001   \n",
       "3 2019-12-22 15:13:00     410 6th St, San Francisco, CA 94016   \n",
       "4 2019-12-18 12:38:00           43 Hill St, Atlanta, GA 30301   \n",
       "\n",
       "               source_file         street           city state postal_code  \n",
       "0  Sales_December_2019.csv  136 Church St  New York City    NY       10001  \n",
       "1  Sales_December_2019.csv     562 2nd St  New York City    NY       10001  \n",
       "2  Sales_December_2019.csv    277 Main St  New York City    NY       10001  \n",
       "3  Sales_December_2019.csv     410 6th St  San Francisco    CA       94016  \n",
       "4  Sales_December_2019.csv     43 Hill St        Atlanta    GA       30301  "
      ]
     },
     "execution_count": 196,
     "metadata": {},
     "output_type": "execute_result"
    }
   ],
   "source": [
    "df_no_duplicates.head()"
   ]
  },
  {
   "cell_type": "code",
   "execution_count": 197,
   "id": "5dc5962a-4caa-4327-9984-39f0f867a0be",
   "metadata": {},
   "outputs": [],
   "source": [
    "#Calculating total paid for each order line\n",
    "df_no_duplicates['total_paid'] = df_no_duplicates['Price Each'] * df_no_duplicates['Quantity Ordered']"
   ]
  },
  {
   "cell_type": "code",
   "execution_count": 198,
   "id": "4a214076-a819-4cab-afbe-e4f26590845f",
   "metadata": {},
   "outputs": [
    {
     "data": {
      "text/html": [
       "<div>\n",
       "<style scoped>\n",
       "    .dataframe tbody tr th:only-of-type {\n",
       "        vertical-align: middle;\n",
       "    }\n",
       "\n",
       "    .dataframe tbody tr th {\n",
       "        vertical-align: top;\n",
       "    }\n",
       "\n",
       "    .dataframe thead th {\n",
       "        text-align: right;\n",
       "    }\n",
       "</style>\n",
       "<table border=\"1\" class=\"dataframe\">\n",
       "  <thead>\n",
       "    <tr style=\"text-align: right;\">\n",
       "      <th></th>\n",
       "      <th>Order ID</th>\n",
       "      <th>Product</th>\n",
       "      <th>Quantity Ordered</th>\n",
       "      <th>Price Each</th>\n",
       "      <th>Order Date</th>\n",
       "      <th>Purchase Address</th>\n",
       "      <th>source_file</th>\n",
       "      <th>street</th>\n",
       "      <th>city</th>\n",
       "      <th>state</th>\n",
       "      <th>postal_code</th>\n",
       "      <th>total_paid</th>\n",
       "    </tr>\n",
       "  </thead>\n",
       "  <tbody>\n",
       "    <tr>\n",
       "      <th>0</th>\n",
       "      <td>295665</td>\n",
       "      <td>Macbook Pro Laptop</td>\n",
       "      <td>1</td>\n",
       "      <td>1700.00</td>\n",
       "      <td>2019-12-30 00:01:00</td>\n",
       "      <td>136 Church St, New York City, NY 10001</td>\n",
       "      <td>Sales_December_2019.csv</td>\n",
       "      <td>136 Church St</td>\n",
       "      <td>New York City</td>\n",
       "      <td>NY</td>\n",
       "      <td>10001</td>\n",
       "      <td>1700.00</td>\n",
       "    </tr>\n",
       "    <tr>\n",
       "      <th>1</th>\n",
       "      <td>295666</td>\n",
       "      <td>LG Washing Machine</td>\n",
       "      <td>1</td>\n",
       "      <td>600.00</td>\n",
       "      <td>2019-12-29 07:03:00</td>\n",
       "      <td>562 2nd St, New York City, NY 10001</td>\n",
       "      <td>Sales_December_2019.csv</td>\n",
       "      <td>562 2nd St</td>\n",
       "      <td>New York City</td>\n",
       "      <td>NY</td>\n",
       "      <td>10001</td>\n",
       "      <td>600.00</td>\n",
       "    </tr>\n",
       "    <tr>\n",
       "      <th>2</th>\n",
       "      <td>295667</td>\n",
       "      <td>USB-C Charging Cable</td>\n",
       "      <td>1</td>\n",
       "      <td>11.95</td>\n",
       "      <td>2019-12-12 18:21:00</td>\n",
       "      <td>277 Main St, New York City, NY 10001</td>\n",
       "      <td>Sales_December_2019.csv</td>\n",
       "      <td>277 Main St</td>\n",
       "      <td>New York City</td>\n",
       "      <td>NY</td>\n",
       "      <td>10001</td>\n",
       "      <td>11.95</td>\n",
       "    </tr>\n",
       "    <tr>\n",
       "      <th>3</th>\n",
       "      <td>295668</td>\n",
       "      <td>27in FHD Monitor</td>\n",
       "      <td>1</td>\n",
       "      <td>149.99</td>\n",
       "      <td>2019-12-22 15:13:00</td>\n",
       "      <td>410 6th St, San Francisco, CA 94016</td>\n",
       "      <td>Sales_December_2019.csv</td>\n",
       "      <td>410 6th St</td>\n",
       "      <td>San Francisco</td>\n",
       "      <td>CA</td>\n",
       "      <td>94016</td>\n",
       "      <td>149.99</td>\n",
       "    </tr>\n",
       "    <tr>\n",
       "      <th>4</th>\n",
       "      <td>295669</td>\n",
       "      <td>USB-C Charging Cable</td>\n",
       "      <td>1</td>\n",
       "      <td>11.95</td>\n",
       "      <td>2019-12-18 12:38:00</td>\n",
       "      <td>43 Hill St, Atlanta, GA 30301</td>\n",
       "      <td>Sales_December_2019.csv</td>\n",
       "      <td>43 Hill St</td>\n",
       "      <td>Atlanta</td>\n",
       "      <td>GA</td>\n",
       "      <td>30301</td>\n",
       "      <td>11.95</td>\n",
       "    </tr>\n",
       "  </tbody>\n",
       "</table>\n",
       "</div>"
      ],
      "text/plain": [
       "   Order ID               Product  Quantity Ordered  Price Each  \\\n",
       "0    295665    Macbook Pro Laptop                 1     1700.00   \n",
       "1    295666    LG Washing Machine                 1      600.00   \n",
       "2    295667  USB-C Charging Cable                 1       11.95   \n",
       "3    295668      27in FHD Monitor                 1      149.99   \n",
       "4    295669  USB-C Charging Cable                 1       11.95   \n",
       "\n",
       "           Order Date                        Purchase Address  \\\n",
       "0 2019-12-30 00:01:00  136 Church St, New York City, NY 10001   \n",
       "1 2019-12-29 07:03:00     562 2nd St, New York City, NY 10001   \n",
       "2 2019-12-12 18:21:00    277 Main St, New York City, NY 10001   \n",
       "3 2019-12-22 15:13:00     410 6th St, San Francisco, CA 94016   \n",
       "4 2019-12-18 12:38:00           43 Hill St, Atlanta, GA 30301   \n",
       "\n",
       "               source_file         street           city state postal_code  \\\n",
       "0  Sales_December_2019.csv  136 Church St  New York City    NY       10001   \n",
       "1  Sales_December_2019.csv     562 2nd St  New York City    NY       10001   \n",
       "2  Sales_December_2019.csv    277 Main St  New York City    NY       10001   \n",
       "3  Sales_December_2019.csv     410 6th St  San Francisco    CA       94016   \n",
       "4  Sales_December_2019.csv     43 Hill St        Atlanta    GA       30301   \n",
       "\n",
       "   total_paid  \n",
       "0     1700.00  \n",
       "1      600.00  \n",
       "2       11.95  \n",
       "3      149.99  \n",
       "4       11.95  "
      ]
     },
     "execution_count": 198,
     "metadata": {},
     "output_type": "execute_result"
    }
   ],
   "source": [
    "df_no_duplicates.head()"
   ]
  },
  {
   "cell_type": "markdown",
   "id": "5d27eafe-9bf9-46b9-b375-7bab8719af77",
   "metadata": {},
   "source": [
    "### Checking Data Quality"
   ]
  },
  {
   "cell_type": "markdown",
   "id": "742b3cf7-d37c-4894-9e5e-03aeeb94cf51",
   "metadata": {},
   "source": [
    "Checking Data Quality after cleaning and transforming"
   ]
  },
  {
   "cell_type": "code",
   "execution_count": 199,
   "id": "ebd1ff9b-0a6c-4e46-a27e-b2c49caf24b2",
   "metadata": {
    "scrolled": true
   },
   "outputs": [
    {
     "name": "stdout",
     "output_type": "stream",
     "text": [
      "['Macbook Pro Laptop' 'LG Washing Machine' 'USB-C Charging Cable'\n",
      " '27in FHD Monitor' 'AA Batteries (4-pack)' 'Bose SoundSport Headphones'\n",
      " 'AAA Batteries (4-pack)' 'ThinkPad Laptop' 'Lightning Charging Cable'\n",
      " 'Google Phone' 'Wired Headphones' 'Apple Airpods Headphones'\n",
      " 'Vareebadd Phone' 'iPhone' '20in Monitor' '34in Ultrawide Monitor'\n",
      " 'Flatscreen TV' '27in 4K Gaming Monitor' 'LG Dryer']\n"
     ]
    }
   ],
   "source": [
    "#Checking products names are normalized (No duplicates with Capitalization errors, whitespaces...)\n",
    "print(df_no_duplicates['Product'].unique())"
   ]
  },
  {
   "cell_type": "code",
   "execution_count": 200,
   "id": "59484be8-0583-455a-b5fe-0e37ed2ce04c",
   "metadata": {},
   "outputs": [
    {
     "name": "stdout",
     "output_type": "stream",
     "text": [
      "cities: ['New York City' 'San Francisco' 'Atlanta' 'Portland' 'Dallas'\n",
      " 'Los Angeles' 'Boston' 'Austin' 'Seattle']\n",
      "states: ['NY' 'CA' 'GA' 'OR' 'TX' 'MA' 'ME' 'WA']\n"
     ]
    }
   ],
   "source": [
    "#Checking cities and states columns are normalized\n",
    "print('cities:',df_no_duplicates['city'].unique())\n",
    "print('states:',df_no_duplicates['state'].unique())"
   ]
  },
  {
   "cell_type": "code",
   "execution_count": 201,
   "id": "ccbe8e07-c39a-4b50-8985-4c7d003a1679",
   "metadata": {},
   "outputs": [
    {
     "data": {
      "text/plain": [
       "Order ID\n",
       "141234    1\n",
       "260196    1\n",
       "260188    1\n",
       "260189    1\n",
       "260190    1\n",
       "         ..\n",
       "200714    1\n",
       "200715    1\n",
       "200716    1\n",
       "200717    1\n",
       "319670    1\n",
       "Name: Order Date, Length: 178437, dtype: int64"
      ]
     },
     "execution_count": 201,
     "metadata": {},
     "output_type": "execute_result"
    }
   ],
   "source": [
    "#checking date inconsistencies in orders (Order date changes between 2 of their lines)\n",
    "df_no_duplicates.groupby('Order ID')['Order Date'].nunique().sort_values(ascending=False)"
   ]
  },
  {
   "cell_type": "code",
   "execution_count": 202,
   "id": "5a286e25-30d1-423c-8f04-683a09be8e90",
   "metadata": {},
   "outputs": [
    {
     "data": {
      "text/plain": [
       "Order ID\n",
       "141234    1\n",
       "260196    1\n",
       "260188    1\n",
       "260189    1\n",
       "260190    1\n",
       "         ..\n",
       "200714    1\n",
       "200715    1\n",
       "200716    1\n",
       "200717    1\n",
       "319670    1\n",
       "Name: Purchase Address, Length: 178437, dtype: int64"
      ]
     },
     "execution_count": 202,
     "metadata": {},
     "output_type": "execute_result"
    }
   ],
   "source": [
    "#checking address inconsistencies in orders (Order Address changes between 2 of their lines)\n",
    "df_no_duplicates.groupby('Order ID')['Purchase Address'].nunique().sort_values(ascending=False)"
   ]
  },
  {
   "cell_type": "code",
   "execution_count": 203,
   "id": "12a0cd20-4dbc-4dd1-b7b8-4567718087d2",
   "metadata": {},
   "outputs": [],
   "source": [
    "df_clean = df_no_duplicates"
   ]
  },
  {
   "cell_type": "code",
   "execution_count": 204,
   "id": "7b331be4-dd4f-4239-98b6-eaaa502cefbf",
   "metadata": {},
   "outputs": [
    {
     "data": {
      "text/plain": [
       "(185686, 12)"
      ]
     },
     "execution_count": 204,
     "metadata": {},
     "output_type": "execute_result"
    }
   ],
   "source": [
    "df_clean.shape"
   ]
  },
  {
   "cell_type": "markdown",
   "id": "de05dd45-56aa-4ca6-9a17-f4da7f14ec93",
   "metadata": {},
   "source": [
    "## Metrics and Data Visualization"
   ]
  },
  {
   "cell_type": "markdown",
   "id": "1766fff2-04ed-46e6-a40f-796e520efe12",
   "metadata": {},
   "source": [
    "#### What was the best month for sales? How much was earned that month?"
   ]
  },
  {
   "cell_type": "code",
   "execution_count": 205,
   "id": "9f040b80-c650-4724-b10c-ddbaf584ab4a",
   "metadata": {},
   "outputs": [],
   "source": [
    "df_sales_by_month = df_clean.groupby(df_clean['Order Date'].dt.to_period('M')) \\\n",
    "                            .agg({'Order ID': 'nunique','total_paid': 'sum'}).reset_index() \\\n",
    "                            .rename(columns={'Order Date': 'Month', 'Order ID': 'Orders', 'total_paid': 'Earnings'})"
   ]
  },
  {
   "cell_type": "code",
   "execution_count": 206,
   "id": "fcc4ceb0-d41c-4bc6-bfd6-0dbe14aa821a",
   "metadata": {},
   "outputs": [
    {
     "data": {
      "text/html": [
       "<div>\n",
       "<style scoped>\n",
       "    .dataframe tbody tr th:only-of-type {\n",
       "        vertical-align: middle;\n",
       "    }\n",
       "\n",
       "    .dataframe tbody tr th {\n",
       "        vertical-align: top;\n",
       "    }\n",
       "\n",
       "    .dataframe thead th {\n",
       "        text-align: right;\n",
       "    }\n",
       "</style>\n",
       "<table border=\"1\" class=\"dataframe\">\n",
       "  <thead>\n",
       "    <tr style=\"text-align: right;\">\n",
       "      <th></th>\n",
       "      <th>Month</th>\n",
       "      <th>Orders</th>\n",
       "      <th>Earnings</th>\n",
       "    </tr>\n",
       "  </thead>\n",
       "  <tbody>\n",
       "    <tr>\n",
       "      <th>11</th>\n",
       "      <td>2019-12</td>\n",
       "      <td>24004</td>\n",
       "      <td>4608295.70</td>\n",
       "    </tr>\n",
       "    <tr>\n",
       "      <th>9</th>\n",
       "      <td>2019-10</td>\n",
       "      <td>19436</td>\n",
       "      <td>3734777.86</td>\n",
       "    </tr>\n",
       "    <tr>\n",
       "      <th>3</th>\n",
       "      <td>2019-04</td>\n",
       "      <td>17528</td>\n",
       "      <td>3389217.98</td>\n",
       "    </tr>\n",
       "    <tr>\n",
       "      <th>10</th>\n",
       "      <td>2019-11</td>\n",
       "      <td>16859</td>\n",
       "      <td>3197875.05</td>\n",
       "    </tr>\n",
       "    <tr>\n",
       "      <th>4</th>\n",
       "      <td>2019-05</td>\n",
       "      <td>15836</td>\n",
       "      <td>3150616.23</td>\n",
       "    </tr>\n",
       "  </tbody>\n",
       "</table>\n",
       "</div>"
      ],
      "text/plain": [
       "      Month  Orders    Earnings\n",
       "11  2019-12   24004  4608295.70\n",
       "9   2019-10   19436  3734777.86\n",
       "3   2019-04   17528  3389217.98\n",
       "10  2019-11   16859  3197875.05\n",
       "4   2019-05   15836  3150616.23"
      ]
     },
     "execution_count": 206,
     "metadata": {},
     "output_type": "execute_result"
    }
   ],
   "source": [
    "df_sales_by_month.sort_values(by='Earnings', ascending=False).head()"
   ]
  },
  {
   "cell_type": "code",
   "execution_count": 207,
   "id": "71fb3794-ad0f-40c3-8acd-2bae3857dad9",
   "metadata": {},
   "outputs": [
    {
     "name": "stderr",
     "output_type": "stream",
     "text": [
      "C:\\Users\\carlo\\anaconda3\\Lib\\site-packages\\seaborn\\_oldcore.py:1119: FutureWarning: use_inf_as_na option is deprecated and will be removed in a future version. Convert inf values to NaN before operating instead.\n",
      "  with pd.option_context('mode.use_inf_as_na', True):\n",
      "C:\\Users\\carlo\\anaconda3\\Lib\\site-packages\\seaborn\\_oldcore.py:1119: FutureWarning: use_inf_as_na option is deprecated and will be removed in a future version. Convert inf values to NaN before operating instead.\n",
      "  with pd.option_context('mode.use_inf_as_na', True):\n"
     ]
    },
    {
     "data": {
      "image/png": "[encoded data removed]",
      "text/plain": [
       "<Figure size 1500x500 with 2 Axes>"
      ]
     },
     "metadata": {},
     "output_type": "display_data"
    }
   ],
   "source": [
    "df_sales_by_month['Month'] = df_sales_by_month['Month'].astype(str)\n",
    "\n",
    "fig, ax1 = plt.subplots(figsize=(15, 5))\n",
    "sns.barplot(x='Month', y='Orders', data=df_sales_by_month, color='skyblue', ax=ax1)\n",
    "ax2 = ax1.twinx()\n",
    "sns.lineplot(x='Month', y='Earnings', data=df_sales_by_month, marker='o', color='red', ax=ax2)\n",
    "ax1.set_ylabel('Orders', color='blue')\n",
    "ax2.set_ylabel('Earnings', color='red')\n",
    "ax2.ticklabel_format(style='plain', axis='y')\n",
    "#ax1.set_xlabel('Month')\n",
    "ax1.set_title('Order volume and total billed per month')\n",
    "plt.show()"
   ]
  },
  {
   "cell_type": "markdown",
   "id": "587490c2-8a4f-4793-8e26-e3213accb5c3",
   "metadata": {},
   "source": [
    "* **ANSWER:** The best month for sales was December 2019, with 24,004 orders recorded, meaning that more than 4.5 million dollars were earned. "
   ]
  },
  {
   "cell_type": "markdown",
   "id": "38a2fdfc-829e-4376-9fa7-d9b010b6bd82",
   "metadata": {},
   "source": [
    "### What city sold the most product?"
   ]
  },
  {
   "cell_type": "code",
   "execution_count": 208,
   "id": "c1ddffe9-6036-4c30-a8b4-905e6dcb07db",
   "metadata": {},
   "outputs": [],
   "source": [
    "df_sales_by_city = df_clean.groupby('city')['Quantity Ordered'].sum().reset_index().sort_values(by='Quantity Ordered', ascending=False)"
   ]
  },
  {
   "cell_type": "code",
   "execution_count": 209,
   "id": "48132aac-fb57-4b88-b84b-8311805d7d3c",
   "metadata": {},
   "outputs": [
    {
     "data": {
      "text/html": [
       "<div>\n",
       "<style scoped>\n",
       "    .dataframe tbody tr th:only-of-type {\n",
       "        vertical-align: middle;\n",
       "    }\n",
       "\n",
       "    .dataframe tbody tr th {\n",
       "        vertical-align: top;\n",
       "    }\n",
       "\n",
       "    .dataframe thead th {\n",
       "        text-align: right;\n",
       "    }\n",
       "</style>\n",
       "<table border=\"1\" class=\"dataframe\">\n",
       "  <thead>\n",
       "    <tr style=\"text-align: right;\">\n",
       "      <th></th>\n",
       "      <th>city</th>\n",
       "      <th>Quantity Ordered</th>\n",
       "    </tr>\n",
       "  </thead>\n",
       "  <tbody>\n",
       "    <tr>\n",
       "      <th>7</th>\n",
       "      <td>San Francisco</td>\n",
       "      <td>50169</td>\n",
       "    </tr>\n",
       "  </tbody>\n",
       "</table>\n",
       "</div>"
      ],
      "text/plain": [
       "            city  Quantity Ordered\n",
       "7  San Francisco             50169"
      ]
     },
     "execution_count": 209,
     "metadata": {},
     "output_type": "execute_result"
    }
   ],
   "source": [
    "df_sales_by_city.head(1)"
   ]
  },
  {
   "cell_type": "code",
   "execution_count": 210,
   "id": "2fc607b5-4be0-44e7-82b9-b75bf72cf0fe",
   "metadata": {},
   "outputs": [
    {
     "data": {
      "image/png": "[encoded data removed]",
      "text/plain": [
       "<Figure size 640x480 with 1 Axes>"
      ]
     },
     "metadata": {},
     "output_type": "display_data"
    }
   ],
   "source": [
    "sns.barplot(y='city', x='Quantity Ordered', data=df_sales_by_city, color='skyblue')\n",
    "plt.show()"
   ]
  },
  {
   "cell_type": "markdown",
   "id": "70946d53-fb89-4ea2-bc9c-248145a5cc05",
   "metadata": {},
   "source": [
    "* **ANSWER:** The city that sold the most products was San Francisco, having sold a total of 50,169 products."
   ]
  },
  {
   "cell_type": "markdown",
   "id": "8a0ebfec-83bd-4ec8-b2a0-df97353b4fbf",
   "metadata": {},
   "source": [
    "### What product sold the most? Why do you think it sold the most?"
   ]
  },
  {
   "cell_type": "code",
   "execution_count": 211,
   "id": "81d608dc-31e8-47aa-9e2b-598739204f8c",
   "metadata": {},
   "outputs": [],
   "source": [
    "df_sales_by_product = df_clean.groupby(['Product','Price Each'])['Quantity Ordered'].sum().reset_index().sort_values(by='Quantity Ordered', ascending=False)"
   ]
  },
  {
   "cell_type": "code",
   "execution_count": 212,
   "id": "e3953946-84ed-4b24-aad3-fe49d7f01021",
   "metadata": {},
   "outputs": [
    {
     "data": {
      "text/html": [
       "<div>\n",
       "<style scoped>\n",
       "    .dataframe tbody tr th:only-of-type {\n",
       "        vertical-align: middle;\n",
       "    }\n",
       "\n",
       "    .dataframe tbody tr th {\n",
       "        vertical-align: top;\n",
       "    }\n",
       "\n",
       "    .dataframe thead th {\n",
       "        text-align: right;\n",
       "    }\n",
       "</style>\n",
       "<table border=\"1\" class=\"dataframe\">\n",
       "  <thead>\n",
       "    <tr style=\"text-align: right;\">\n",
       "      <th></th>\n",
       "      <th>Product</th>\n",
       "      <th>Price Each</th>\n",
       "      <th>Quantity Ordered</th>\n",
       "    </tr>\n",
       "  </thead>\n",
       "  <tbody>\n",
       "    <tr>\n",
       "      <th>5</th>\n",
       "      <td>AAA Batteries (4-pack)</td>\n",
       "      <td>2.99</td>\n",
       "      <td>30986</td>\n",
       "    </tr>\n",
       "    <tr>\n",
       "      <th>4</th>\n",
       "      <td>AA Batteries (4-pack)</td>\n",
       "      <td>3.84</td>\n",
       "      <td>27615</td>\n",
       "    </tr>\n",
       "    <tr>\n",
       "      <th>15</th>\n",
       "      <td>USB-C Charging Cable</td>\n",
       "      <td>11.95</td>\n",
       "      <td>23931</td>\n",
       "    </tr>\n",
       "    <tr>\n",
       "      <th>12</th>\n",
       "      <td>Lightning Charging Cable</td>\n",
       "      <td>14.95</td>\n",
       "      <td>23169</td>\n",
       "    </tr>\n",
       "    <tr>\n",
       "      <th>17</th>\n",
       "      <td>Wired Headphones</td>\n",
       "      <td>11.99</td>\n",
       "      <td>20524</td>\n",
       "    </tr>\n",
       "    <tr>\n",
       "      <th>6</th>\n",
       "      <td>Apple Airpods Headphones</td>\n",
       "      <td>150.00</td>\n",
       "      <td>15637</td>\n",
       "    </tr>\n",
       "    <tr>\n",
       "      <th>7</th>\n",
       "      <td>Bose SoundSport Headphones</td>\n",
       "      <td>99.99</td>\n",
       "      <td>13430</td>\n",
       "    </tr>\n",
       "    <tr>\n",
       "      <th>2</th>\n",
       "      <td>27in FHD Monitor</td>\n",
       "      <td>149.99</td>\n",
       "      <td>7541</td>\n",
       "    </tr>\n",
       "    <tr>\n",
       "      <th>18</th>\n",
       "      <td>iPhone</td>\n",
       "      <td>700.00</td>\n",
       "      <td>6847</td>\n",
       "    </tr>\n",
       "    <tr>\n",
       "      <th>1</th>\n",
       "      <td>27in 4K Gaming Monitor</td>\n",
       "      <td>389.99</td>\n",
       "      <td>6239</td>\n",
       "    </tr>\n",
       "    <tr>\n",
       "      <th>3</th>\n",
       "      <td>34in Ultrawide Monitor</td>\n",
       "      <td>379.99</td>\n",
       "      <td>6192</td>\n",
       "    </tr>\n",
       "    <tr>\n",
       "      <th>9</th>\n",
       "      <td>Google Phone</td>\n",
       "      <td>600.00</td>\n",
       "      <td>5529</td>\n",
       "    </tr>\n",
       "    <tr>\n",
       "      <th>8</th>\n",
       "      <td>Flatscreen TV</td>\n",
       "      <td>300.00</td>\n",
       "      <td>4813</td>\n",
       "    </tr>\n",
       "    <tr>\n",
       "      <th>13</th>\n",
       "      <td>Macbook Pro Laptop</td>\n",
       "      <td>1700.00</td>\n",
       "      <td>4725</td>\n",
       "    </tr>\n",
       "    <tr>\n",
       "      <th>14</th>\n",
       "      <td>ThinkPad Laptop</td>\n",
       "      <td>999.99</td>\n",
       "      <td>4128</td>\n",
       "    </tr>\n",
       "    <tr>\n",
       "      <th>0</th>\n",
       "      <td>20in Monitor</td>\n",
       "      <td>109.99</td>\n",
       "      <td>4126</td>\n",
       "    </tr>\n",
       "    <tr>\n",
       "      <th>16</th>\n",
       "      <td>Vareebadd Phone</td>\n",
       "      <td>400.00</td>\n",
       "      <td>2068</td>\n",
       "    </tr>\n",
       "    <tr>\n",
       "      <th>11</th>\n",
       "      <td>LG Washing Machine</td>\n",
       "      <td>600.00</td>\n",
       "      <td>666</td>\n",
       "    </tr>\n",
       "    <tr>\n",
       "      <th>10</th>\n",
       "      <td>LG Dryer</td>\n",
       "      <td>600.00</td>\n",
       "      <td>646</td>\n",
       "    </tr>\n",
       "  </tbody>\n",
       "</table>\n",
       "</div>"
      ],
      "text/plain": [
       "                       Product  Price Each  Quantity Ordered\n",
       "5       AAA Batteries (4-pack)        2.99             30986\n",
       "4        AA Batteries (4-pack)        3.84             27615\n",
       "15        USB-C Charging Cable       11.95             23931\n",
       "12    Lightning Charging Cable       14.95             23169\n",
       "17            Wired Headphones       11.99             20524\n",
       "6     Apple Airpods Headphones      150.00             15637\n",
       "7   Bose SoundSport Headphones       99.99             13430\n",
       "2             27in FHD Monitor      149.99              7541\n",
       "18                      iPhone      700.00              6847\n",
       "1       27in 4K Gaming Monitor      389.99              6239\n",
       "3       34in Ultrawide Monitor      379.99              6192\n",
       "9                 Google Phone      600.00              5529\n",
       "8                Flatscreen TV      300.00              4813\n",
       "13          Macbook Pro Laptop     1700.00              4725\n",
       "14             ThinkPad Laptop      999.99              4128\n",
       "0                 20in Monitor      109.99              4126\n",
       "16             Vareebadd Phone      400.00              2068\n",
       "11          LG Washing Machine      600.00               666\n",
       "10                    LG Dryer      600.00               646"
      ]
     },
     "execution_count": 212,
     "metadata": {},
     "output_type": "execute_result"
    }
   ],
   "source": [
    "df_sales_by_product"
   ]
  },
  {
   "cell_type": "code",
   "execution_count": 213,
   "id": "a8592bd9-a135-41a6-a2c7-a4a41663d8b0",
   "metadata": {},
   "outputs": [
    {
     "data": {
      "image/png": "[encoded data removed]",
      "text/plain": [
       "<Figure size 640x480 with 1 Axes>"
      ]
     },
     "metadata": {},
     "output_type": "display_data"
    }
   ],
   "source": [
    "sns.barplot(y='Product', x='Quantity Ordered', data=df_sales_by_product, color='skyblue')\n",
    "plt.show()"
   ]
  },
  {
   "cell_type": "markdown",
   "id": "31e5068a-3e3d-4044-9eb9-bb3e29f82ea0",
   "metadata": {},
   "source": [
    "* **ANSWER:** The best-selling product is the \"AAA Batteries (4-pack),\" which has the lowest price, followed by the \"AA Batteries (4-pack),\" the second best-selling product. Both products have in common that they are single-use batteries, making them items that need to be purchased repeatedly."
   ]
  },
  {
   "cell_type": "markdown",
   "id": "a7f4e827-60e1-4972-8423-23b814c32614",
   "metadata": {},
   "source": [
    "### In which time range are the orders concentrated?"
   ]
  },
  {
   "cell_type": "code",
   "execution_count": 214,
   "id": "947f78a2-5200-4c6a-ba31-f55fd9c7cfbc",
   "metadata": {},
   "outputs": [],
   "source": [
    "df_orders_by_time = df_clean.copy()\n",
    "df_orders_by_time['dayofweek'] = df_orders_by_time['Order Date'].dt.day_name()\n",
    "df_orders_by_time['hour'] = df_orders_by_time['Order Date'].dt.hour\n",
    "df_orders_by_time = df_orders_by_time.groupby(['dayofweek', 'hour'])['Order ID'].nunique().reset_index().rename(columns={'Order ID': 'Orders'})\n",
    "df_orders_by_time_pivot = df_orders_by_time.pivot(index='hour', columns='dayofweek', values='Orders')\n",
    "order_days = [\"Monday\", \"Tuesday\", \"Wednesday\", \"Thursday\", \"Friday\", \"Saturday\", \"Sunday\"]\n",
    "df_orders_by_time_pivot=df_orders_by_time_pivot[order_days]"
   ]
  },
  {
   "cell_type": "code",
   "execution_count": 215,
   "id": "829da5bb-2cef-4c24-9b18-d78f68262e3f",
   "metadata": {},
   "outputs": [
    {
     "data": {
      "image/png": "[encoded data removed]",
      "text/plain": [
       "<Figure size 1000x1000 with 2 Axes>"
      ]
     },
     "metadata": {},
     "output_type": "display_data"
    }
   ],
   "source": [
    "plt.figure(figsize=(10, 10))\n",
    "sns.heatmap(df_orders_by_time_pivot, cmap=\"Blues\", linewidths=1)\n",
    "plt.xlabel('Day of week')\n",
    "plt.ylabel('Hour')\n",
    "plt.show()"
   ]
  },
  {
   "cell_type": "markdown",
   "id": "90220336-5d6d-476a-9274-36789ca5dde4",
   "metadata": {},
   "source": [
    "* **ANSWER:** The time range with the highest volume of orders is from 8 AM to 9 PM, with a slightly higher volume between 11 AM and 1 PM, and between 6 PM and 8 PM. As for the days of the week, the distribution is similar."
   ]
  },
  {
   "cell_type": "markdown",
   "id": "611b768d-4386-4bb9-a2ca-37fd77e2f28a",
   "metadata": {},
   "source": [
    "### How has the average order price evolved?"
   ]
  },
  {
   "cell_type": "code",
   "execution_count": 216,
   "id": "d8289cdc-3f10-4f89-9dac-a61a1a20547f",
   "metadata": {},
   "outputs": [],
   "source": [
    "df_orders=df_clean.groupby(['Order ID','Order Date'])['total_paid'].sum().reset_index()\n",
    "df_price_per_month=df_orders.groupby(df_orders['Order Date'].dt.to_period('M'))['total_paid'].mean().reset_index()\\\n",
    "                            .rename(columns={'Order Date': 'Month', 'total_paid': 'avg_order_price'})"
   ]
  },
  {
   "cell_type": "code",
   "execution_count": 217,
   "id": "4b6f376f-2da9-4e36-ac36-aa36cf747157",
   "metadata": {},
   "outputs": [
    {
     "data": {
      "text/html": [
       "<div>\n",
       "<style scoped>\n",
       "    .dataframe tbody tr th:only-of-type {\n",
       "        vertical-align: middle;\n",
       "    }\n",
       "\n",
       "    .dataframe tbody tr th {\n",
       "        vertical-align: top;\n",
       "    }\n",
       "\n",
       "    .dataframe thead th {\n",
       "        text-align: right;\n",
       "    }\n",
       "</style>\n",
       "<table border=\"1\" class=\"dataframe\">\n",
       "  <thead>\n",
       "    <tr style=\"text-align: right;\">\n",
       "      <th></th>\n",
       "      <th>Month</th>\n",
       "      <th>avg_order_price</th>\n",
       "    </tr>\n",
       "  </thead>\n",
       "  <tbody>\n",
       "    <tr>\n",
       "      <th>0</th>\n",
       "      <td>2019-01</td>\n",
       "      <td>195.718297</td>\n",
       "    </tr>\n",
       "    <tr>\n",
       "      <th>1</th>\n",
       "      <td>2019-02</td>\n",
       "      <td>191.377704</td>\n",
       "    </tr>\n",
       "    <tr>\n",
       "      <th>2</th>\n",
       "      <td>2019-03</td>\n",
       "      <td>192.794924</td>\n",
       "    </tr>\n",
       "    <tr>\n",
       "      <th>3</th>\n",
       "      <td>2019-04</td>\n",
       "      <td>193.360223</td>\n",
       "    </tr>\n",
       "    <tr>\n",
       "      <th>4</th>\n",
       "      <td>2019-05</td>\n",
       "      <td>198.952780</td>\n",
       "    </tr>\n",
       "    <tr>\n",
       "      <th>5</th>\n",
       "      <td>2019-06</td>\n",
       "      <td>198.343225</td>\n",
       "    </tr>\n",
       "    <tr>\n",
       "      <th>6</th>\n",
       "      <td>2019-07</td>\n",
       "      <td>192.316061</td>\n",
       "    </tr>\n",
       "    <tr>\n",
       "      <th>7</th>\n",
       "      <td>2019-08</td>\n",
       "      <td>195.148325</td>\n",
       "    </tr>\n",
       "    <tr>\n",
       "      <th>8</th>\n",
       "      <td>2019-09</td>\n",
       "      <td>186.972477</td>\n",
       "    </tr>\n",
       "    <tr>\n",
       "      <th>9</th>\n",
       "      <td>2019-10</td>\n",
       "      <td>192.157741</td>\n",
       "    </tr>\n",
       "    <tr>\n",
       "      <th>10</th>\n",
       "      <td>2019-11</td>\n",
       "      <td>189.683555</td>\n",
       "    </tr>\n",
       "    <tr>\n",
       "      <th>11</th>\n",
       "      <td>2019-12</td>\n",
       "      <td>191.980324</td>\n",
       "    </tr>\n",
       "    <tr>\n",
       "      <th>12</th>\n",
       "      <td>2020-01</td>\n",
       "      <td>279.686774</td>\n",
       "    </tr>\n",
       "  </tbody>\n",
       "</table>\n",
       "</div>"
      ],
      "text/plain": [
       "      Month  avg_order_price\n",
       "0   2019-01       195.718297\n",
       "1   2019-02       191.377704\n",
       "2   2019-03       192.794924\n",
       "3   2019-04       193.360223\n",
       "4   2019-05       198.952780\n",
       "5   2019-06       198.343225\n",
       "6   2019-07       192.316061\n",
       "7   2019-08       195.148325\n",
       "8   2019-09       186.972477\n",
       "9   2019-10       192.157741\n",
       "10  2019-11       189.683555\n",
       "11  2019-12       191.980324\n",
       "12  2020-01       279.686774"
      ]
     },
     "execution_count": 217,
     "metadata": {},
     "output_type": "execute_result"
    }
   ],
   "source": [
    "df_price_per_month"
   ]
  },
  {
   "cell_type": "code",
   "execution_count": 218,
   "id": "a18e2d19-4432-4c49-977c-03cbcf2d580f",
   "metadata": {},
   "outputs": [
    {
     "data": {
      "image/png": "[encoded data removed]",
      "text/plain": [
       "<Figure size 1500x500 with 1 Axes>"
      ]
     },
     "metadata": {},
     "output_type": "display_data"
    }
   ],
   "source": [
    "fig = plt.subplots(figsize=(15, 5))\n",
    "df_price_per_month['Month'] = df_sales_by_month['Month'].astype(str)\n",
    "sns.barplot(x='Month', y='avg_order_price', data=df_price_per_month, color='skyblue')\n",
    "plt.show()"
   ]
  },
  {
   "cell_type": "markdown",
   "id": "04ec74d9-d067-4519-a821-eee7bbef3dbd",
   "metadata": {},
   "source": [
    "* **ANSWER:** Discarding the value obtained for January 2020 due to its low order volume, as it may be incomplete and causing an abnormal value in this metric. The average price has not changed and has remained slightly below 200 USD."
   ]
  },
  {
   "cell_type": "markdown",
   "id": "773c21c5-153b-4404-a7e6-978f267de018",
   "metadata": {},
   "source": [
    "## Loading data to storage"
   ]
  },
  {
   "cell_type": "markdown",
   "id": "75fe5975-4171-4fb0-8c70-dcfb1e8ce1ae",
   "metadata": {},
   "source": [
    "In this section, the data will be uploaded to S3 partitioned by month."
   ]
  },
  {
   "cell_type": "code",
   "execution_count": 219,
   "id": "e38b367d-8b73-439d-8953-00e35a2b8711",
   "metadata": {},
   "outputs": [],
   "source": [
    "import boto3"
   ]
  },
  {
   "cell_type": "code",
   "execution_count": 220,
   "id": "47fa5b6d-d1ed-4a3d-9085-50e220d70483",
   "metadata": {},
   "outputs": [
    {
     "data": {
      "text/html": [
       "<div>\n",
       "<style scoped>\n",
       "    .dataframe tbody tr th:only-of-type {\n",
       "        vertical-align: middle;\n",
       "    }\n",
       "\n",
       "    .dataframe tbody tr th {\n",
       "        vertical-align: top;\n",
       "    }\n",
       "\n",
       "    .dataframe thead th {\n",
       "        text-align: right;\n",
       "    }\n",
       "</style>\n",
       "<table border=\"1\" class=\"dataframe\">\n",
       "  <thead>\n",
       "    <tr style=\"text-align: right;\">\n",
       "      <th></th>\n",
       "      <th>Order ID</th>\n",
       "      <th>Product</th>\n",
       "      <th>Quantity Ordered</th>\n",
       "      <th>Price Each</th>\n",
       "      <th>Order Date</th>\n",
       "      <th>Purchase Address</th>\n",
       "      <th>source_file</th>\n",
       "      <th>street</th>\n",
       "      <th>city</th>\n",
       "      <th>state</th>\n",
       "      <th>postal_code</th>\n",
       "      <th>total_paid</th>\n",
       "    </tr>\n",
       "  </thead>\n",
       "  <tbody>\n",
       "    <tr>\n",
       "      <th>0</th>\n",
       "      <td>295665</td>\n",
       "      <td>Macbook Pro Laptop</td>\n",
       "      <td>1</td>\n",
       "      <td>1700.00</td>\n",
       "      <td>2019-12-30 00:01:00</td>\n",
       "      <td>136 Church St, New York City, NY 10001</td>\n",
       "      <td>Sales_December_2019.csv</td>\n",
       "      <td>136 Church St</td>\n",
       "      <td>New York City</td>\n",
       "      <td>NY</td>\n",
       "      <td>10001</td>\n",
       "      <td>1700.00</td>\n",
       "    </tr>\n",
       "    <tr>\n",
       "      <th>1</th>\n",
       "      <td>295666</td>\n",
       "      <td>LG Washing Machine</td>\n",
       "      <td>1</td>\n",
       "      <td>600.00</td>\n",
       "      <td>2019-12-29 07:03:00</td>\n",
       "      <td>562 2nd St, New York City, NY 10001</td>\n",
       "      <td>Sales_December_2019.csv</td>\n",
       "      <td>562 2nd St</td>\n",
       "      <td>New York City</td>\n",
       "      <td>NY</td>\n",
       "      <td>10001</td>\n",
       "      <td>600.00</td>\n",
       "    </tr>\n",
       "    <tr>\n",
       "      <th>2</th>\n",
       "      <td>295667</td>\n",
       "      <td>USB-C Charging Cable</td>\n",
       "      <td>1</td>\n",
       "      <td>11.95</td>\n",
       "      <td>2019-12-12 18:21:00</td>\n",
       "      <td>277 Main St, New York City, NY 10001</td>\n",
       "      <td>Sales_December_2019.csv</td>\n",
       "      <td>277 Main St</td>\n",
       "      <td>New York City</td>\n",
       "      <td>NY</td>\n",
       "      <td>10001</td>\n",
       "      <td>11.95</td>\n",
       "    </tr>\n",
       "    <tr>\n",
       "      <th>3</th>\n",
       "      <td>295668</td>\n",
       "      <td>27in FHD Monitor</td>\n",
       "      <td>1</td>\n",
       "      <td>149.99</td>\n",
       "      <td>2019-12-22 15:13:00</td>\n",
       "      <td>410 6th St, San Francisco, CA 94016</td>\n",
       "      <td>Sales_December_2019.csv</td>\n",
       "      <td>410 6th St</td>\n",
       "      <td>San Francisco</td>\n",
       "      <td>CA</td>\n",
       "      <td>94016</td>\n",
       "      <td>149.99</td>\n",
       "    </tr>\n",
       "    <tr>\n",
       "      <th>4</th>\n",
       "      <td>295669</td>\n",
       "      <td>USB-C Charging Cable</td>\n",
       "      <td>1</td>\n",
       "      <td>11.95</td>\n",
       "      <td>2019-12-18 12:38:00</td>\n",
       "      <td>43 Hill St, Atlanta, GA 30301</td>\n",
       "      <td>Sales_December_2019.csv</td>\n",
       "      <td>43 Hill St</td>\n",
       "      <td>Atlanta</td>\n",
       "      <td>GA</td>\n",
       "      <td>30301</td>\n",
       "      <td>11.95</td>\n",
       "    </tr>\n",
       "  </tbody>\n",
       "</table>\n",
       "</div>"
      ],
      "text/plain": [
       "   Order ID               Product  Quantity Ordered  Price Each  \\\n",
       "0    295665    Macbook Pro Laptop                 1     1700.00   \n",
       "1    295666    LG Washing Machine                 1      600.00   \n",
       "2    295667  USB-C Charging Cable                 1       11.95   \n",
       "3    295668      27in FHD Monitor                 1      149.99   \n",
       "4    295669  USB-C Charging Cable                 1       11.95   \n",
       "\n",
       "           Order Date                        Purchase Address  \\\n",
       "0 2019-12-30 00:01:00  136 Church St, New York City, NY 10001   \n",
       "1 2019-12-29 07:03:00     562 2nd St, New York City, NY 10001   \n",
       "2 2019-12-12 18:21:00    277 Main St, New York City, NY 10001   \n",
       "3 2019-12-22 15:13:00     410 6th St, San Francisco, CA 94016   \n",
       "4 2019-12-18 12:38:00           43 Hill St, Atlanta, GA 30301   \n",
       "\n",
       "               source_file         street           city state postal_code  \\\n",
       "0  Sales_December_2019.csv  136 Church St  New York City    NY       10001   \n",
       "1  Sales_December_2019.csv     562 2nd St  New York City    NY       10001   \n",
       "2  Sales_December_2019.csv    277 Main St  New York City    NY       10001   \n",
       "3  Sales_December_2019.csv     410 6th St  San Francisco    CA       94016   \n",
       "4  Sales_December_2019.csv     43 Hill St        Atlanta    GA       30301   \n",
       "\n",
       "   total_paid  \n",
       "0     1700.00  \n",
       "1      600.00  \n",
       "2       11.95  \n",
       "3      149.99  \n",
       "4       11.95  "
      ]
     },
     "execution_count": 220,
     "metadata": {},
     "output_type": "execute_result"
    }
   ],
   "source": [
    "df_clean.head()"
   ]
  },
  {
   "cell_type": "code",
   "execution_count": 221,
   "id": "a0f0c669-432f-4496-9435-292fb95d91eb",
   "metadata": {},
   "outputs": [],
   "source": [
    "s3_client = boto3.client('s3',aws_access_key_id='**********',aws_secret_access_key='**********',region_name='**********')"
   ]
  },
  {
   "cell_type": "code",
   "execution_count": 222,
   "id": "82279f2e-8b53-47b6-82c6-6cb249b46d87",
   "metadata": {},
   "outputs": [],
   "source": [
    "bucket_name = 'sales-pipeline2'\n",
    "base_path = 'orders/'"
   ]
  },
  {
   "cell_type": "code",
   "execution_count": 223,
   "id": "31ee4eea-b2e3-4427-b320-0bdb159a5a5e",
   "metadata": {
    "scrolled": true
   },
   "outputs": [
    {
     "name": "stdout",
     "output_type": "stream",
     "text": [
      "Uploading data month: 2019-12 to s3 key: orders/year=2019/month=12/data.csv\n",
      "Loaded file to s3.  24944  rows\n",
      "\n",
      "\n",
      "Uploading data month: 2020-01 to s3 key: orders/year=2020/month=01/data.csv\n",
      "Loaded file to s3.  34  rows\n",
      "\n",
      "\n",
      "Uploading data month: 2019-04 to s3 key: orders/year=2019/month=04/data.csv\n",
      "Loaded file to s3.  18257  rows\n",
      "\n",
      "\n",
      "Uploading data month: 2019-05 to s3 key: orders/year=2019/month=05/data.csv\n",
      "Loaded file to s3.  16552  rows\n",
      "\n",
      "\n",
      "Uploading data month: 2019-02 to s3 key: orders/year=2019/month=02/data.csv\n",
      "Loaded file to s3.  11957  rows\n",
      "\n",
      "\n",
      "Uploading data month: 2019-03 to s3 key: orders/year=2019/month=03/data.csv\n",
      "Loaded file to s3.  15128  rows\n",
      "\n",
      "\n",
      "Uploading data month: 2019-08 to s3 key: orders/year=2019/month=08/data.csv\n",
      "Loaded file to s3.  11943  rows\n",
      "\n",
      "\n",
      "Uploading data month: 2019-09 to s3 key: orders/year=2019/month=09/data.csv\n",
      "Loaded file to s3.  11603  rows\n",
      "\n",
      "\n",
      "Uploading data month: 2019-06 to s3 key: orders/year=2019/month=06/data.csv\n",
      "Loaded file to s3.  13535  rows\n",
      "\n",
      "\n",
      "Uploading data month: 2019-11 to s3 key: orders/year=2019/month=11/data.csv\n",
      "Loaded file to s3.  17544  rows\n",
      "\n",
      "\n",
      "Uploading data month: 2019-10 to s3 key: orders/year=2019/month=10/data.csv\n",
      "Loaded file to s3.  20249  rows\n",
      "\n",
      "\n",
      "Uploading data month: 2019-01 to s3 key: orders/year=2019/month=01/data.csv\n",
      "Loaded file to s3.  9665  rows\n",
      "\n",
      "\n",
      "Uploading data month: 2019-07 to s3 key: orders/year=2019/month=07/data.csv\n",
      "Loaded file to s3.  14275  rows\n",
      "\n",
      "\n"
     ]
    }
   ],
   "source": [
    "months = df_clean['Order Date'].dt.to_period('M').unique()\n",
    "for month in months:\n",
    "    date_month = str(month).split('-')[1]\n",
    "    date_year = str(month).split('-')[0]\n",
    "    key = base_path+'year='+date_year+'/month='+date_month+'/data.csv'\n",
    "    print(f\"Uploading data month: {date_year}-{date_month} to s3 key: {key}\")\n",
    "    try:\n",
    "        csv_buffer = io.StringIO()\n",
    "        df_load = df_clean[df_clean['Order Date'].dt.to_period('M') == month]\n",
    "        df_load.to_csv(csv_buffer, index=False)\n",
    "        s3_client.put_object(Bucket=bucket_name,Key=key,Body=csv_buffer.getvalue())\n",
    "        print(\"Loaded file to s3. \",df_load.shape[0],\" rows\")\n",
    "    except Exception as e:\n",
    "        print(\"Unexpected error loading file to S3:\", e)\n",
    "    print(\"\\n\")"
   ]
  }
 ],
 "metadata": {
  "kernelspec": {
   "display_name": "Python 3 (ipykernel)",
   "language": "python",
   "name": "python3"
  },
  "language_info": {
   "codemirror_mode": {
    "name": "ipython",
    "version": 3
   },
   "file_extension": ".py",
   "mimetype": "text/x-python",
   "name": "python",
   "nbconvert_exporter": "python",
   "pygments_lexer": "ipython3",
   "version": "3.11.7"
  }
 },
 "nbformat": 4,
 "nbformat_minor": 5
}
